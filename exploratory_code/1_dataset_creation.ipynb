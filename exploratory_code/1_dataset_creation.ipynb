{
 "cells": [
  {
   "cell_type": "markdown",
   "metadata": {},
   "source": [
    "### Loading Companies..."
   ]
  },
  {
   "cell_type": "code",
   "execution_count": 1,
   "metadata": {
    "collapsed": true
   },
   "outputs": [],
   "source": [
    "import numpy as np\n",
    "import pandas as pd"
   ]
  },
  {
   "cell_type": "markdown",
   "metadata": {},
   "source": [
    "Let's import the data"
   ]
  },
  {
   "cell_type": "code",
   "execution_count": 2,
   "metadata": {
    "collapsed": true
   },
   "outputs": [],
   "source": [
    "companies = pd.read_csv('data/companies.csv')"
   ]
  },
  {
   "cell_type": "code",
   "execution_count": 3,
   "metadata": {},
   "outputs": [
    {
     "data": {
      "text/html": [
       "<div>\n",
       "<table border=\"1\" class=\"dataframe\">\n",
       "  <thead>\n",
       "    <tr style=\"text-align: right;\">\n",
       "      <th></th>\n",
       "      <th>permalink</th>\n",
       "      <th>name</th>\n",
       "      <th>homepage_url</th>\n",
       "      <th>category_list</th>\n",
       "      <th>funding_total_usd</th>\n",
       "      <th>status</th>\n",
       "      <th>country_code</th>\n",
       "      <th>state_code</th>\n",
       "      <th>region</th>\n",
       "      <th>city</th>\n",
       "      <th>funding_rounds</th>\n",
       "      <th>founded_at</th>\n",
       "      <th>first_funding_at</th>\n",
       "      <th>last_funding_at</th>\n",
       "    </tr>\n",
       "  </thead>\n",
       "  <tbody>\n",
       "    <tr>\n",
       "      <th>0</th>\n",
       "      <td>/organization/-fame</td>\n",
       "      <td>#fame</td>\n",
       "      <td>http://livfame.com</td>\n",
       "      <td>Media</td>\n",
       "      <td>10000000</td>\n",
       "      <td>operating</td>\n",
       "      <td>IND</td>\n",
       "      <td>16</td>\n",
       "      <td>Mumbai</td>\n",
       "      <td>Mumbai</td>\n",
       "      <td>1</td>\n",
       "      <td>NaN</td>\n",
       "      <td>2015-01-05</td>\n",
       "      <td>2015-01-05</td>\n",
       "    </tr>\n",
       "    <tr>\n",
       "      <th>1</th>\n",
       "      <td>/organization/-qounter</td>\n",
       "      <td>:Qounter</td>\n",
       "      <td>http://www.qounter.com</td>\n",
       "      <td>Application Platforms|Real Time|Social Network...</td>\n",
       "      <td>700000</td>\n",
       "      <td>operating</td>\n",
       "      <td>USA</td>\n",
       "      <td>DE</td>\n",
       "      <td>DE - Other</td>\n",
       "      <td>Delaware City</td>\n",
       "      <td>2</td>\n",
       "      <td>2014-09-04</td>\n",
       "      <td>2014-03-01</td>\n",
       "      <td>2014-10-14</td>\n",
       "    </tr>\n",
       "    <tr>\n",
       "      <th>2</th>\n",
       "      <td>/organization/-the-one-of-them-inc-</td>\n",
       "      <td>(THE) ONE of THEM,Inc.</td>\n",
       "      <td>http://oneofthem.jp</td>\n",
       "      <td>Apps|Games|Mobile</td>\n",
       "      <td>3406878</td>\n",
       "      <td>operating</td>\n",
       "      <td>NaN</td>\n",
       "      <td>NaN</td>\n",
       "      <td>NaN</td>\n",
       "      <td>NaN</td>\n",
       "      <td>1</td>\n",
       "      <td>NaN</td>\n",
       "      <td>2014-01-30</td>\n",
       "      <td>2014-01-30</td>\n",
       "    </tr>\n",
       "  </tbody>\n",
       "</table>\n",
       "</div>"
      ],
      "text/plain": [
       "                             permalink                    name  \\\n",
       "0                  /organization/-fame                   #fame   \n",
       "1               /organization/-qounter                :Qounter   \n",
       "2  /organization/-the-one-of-them-inc-  (THE) ONE of THEM,Inc.   \n",
       "\n",
       "             homepage_url                                      category_list  \\\n",
       "0      http://livfame.com                                              Media   \n",
       "1  http://www.qounter.com  Application Platforms|Real Time|Social Network...   \n",
       "2     http://oneofthem.jp                                  Apps|Games|Mobile   \n",
       "\n",
       "  funding_total_usd     status country_code state_code      region  \\\n",
       "0          10000000  operating          IND         16      Mumbai   \n",
       "1            700000  operating          USA         DE  DE - Other   \n",
       "2           3406878  operating          NaN        NaN         NaN   \n",
       "\n",
       "            city  funding_rounds  founded_at first_funding_at last_funding_at  \n",
       "0         Mumbai               1         NaN       2015-01-05      2015-01-05  \n",
       "1  Delaware City               2  2014-09-04       2014-03-01      2014-10-14  \n",
       "2            NaN               1         NaN       2014-01-30      2014-01-30  "
      ]
     },
     "execution_count": 3,
     "metadata": {},
     "output_type": "execute_result"
    }
   ],
   "source": [
    "#Having a look to the companies data structure\n",
    "companies[:3]"
   ]
  },
  {
   "cell_type": "code",
   "execution_count": 4,
   "metadata": {},
   "outputs": [],
   "source": [
    "#Let's first remove non USA companies, since they usually have a lot of missing data\n",
    "companies_USA = companies[companies['country_code'] == 'USA']"
   ]
  },
  {
   "cell_type": "code",
   "execution_count": 5,
   "metadata": {},
   "outputs": [
    {
     "data": {
      "text/plain": [
       "array(['DE', 'IL', 'CA', 'NC', 'FL', 'NJ', 'NY', 'MD', 'OR', 'WA', 'MA',\n",
       "       'WI', 'OH', 'AL', 'TX', 'RI', 'TN', 'VA', 'IA', 'DC', 'NH', 'LA',\n",
       "       'VT', 'GA', 'IN', 'CO', 'NV', 'PA', 'MI', 'MN', 'SC', 'CT', 'KY',\n",
       "       'UT', 'AZ', 'AR', 'MT', 'ID', 'ME', 'KS', 'OK', 'MO', 'HI', nan,\n",
       "       'NE', 'AK', 'NM', 'WV', 'SD', 'MS', 'ND', 'WY', 'VI', 'GU'], dtype=object)"
      ]
     },
     "execution_count": 5,
     "metadata": {},
     "output_type": "execute_result"
    }
   ],
   "source": [
    "#Check if there are any missing data for state_code in USA based companies\n",
    "companies_USA['state_code'].unique()\n",
    "#companies_USA['state_code'].value_counts()\n",
    "# No nan values for state_code\n",
    "\n",
    "#Let's maintain region and city in the dataset but probably they are not gonna be used\n",
    "#companies_USA['city'].value_counts()"
   ]
  },
  {
   "cell_type": "markdown",
   "metadata": {},
   "source": [
    "### Converting categories to dummy variables (selecting top 50)"
   ]
  },
  {
   "cell_type": "code",
   "execution_count": 6,
   "metadata": {},
   "outputs": [
    {
     "data": {
      "text/plain": [
       "60813"
      ]
     },
     "execution_count": 6,
     "metadata": {},
     "output_type": "execute_result"
    }
   ],
   "source": [
    "from operator import methodcaller\n",
    "#Let's analyze category_list and probably expand it as dummy variables\n",
    "\n",
    "#get a unique list of the categories\n",
    "categories = list(companies_USA['category_list'].astype('str').unique())\n",
    "\n",
    "#split each categori by |\n",
    "categories = map(methodcaller(\"split\", \"|\"), categories)\n",
    "\n",
    "#flatten the list of sub categories\n",
    "categories = [item for sublist in categories for item in sublist]\n",
    "\n",
    "#total of 60k different categories\n",
    "#categories \n",
    "len(categories)"
   ]
  },
  {
   "cell_type": "code",
   "execution_count": 7,
   "metadata": {},
   "outputs": [],
   "source": [
    "#We'll need to select the most important categories (that appears most of the times, and use Other for the rest)\n",
    "companies_series = companies_USA['category_list'].astype('str')\n",
    "categories_splitted_count = companies_series.str.split('|').apply(lambda x: pd.Series(x).value_counts()).sum()"
   ]
  },
  {
   "cell_type": "code",
   "execution_count": 8,
   "metadata": {},
   "outputs": [],
   "source": [
    "#dummies\n",
    "\n",
    "dummies = companies_series.str.get_dummies(sep='|')"
   ]
  },
  {
   "cell_type": "code",
   "execution_count": 9,
   "metadata": {},
   "outputs": [],
   "source": [
    "########### Count of categories splitted first 50)###########\n",
    "top50categories = list(categories_splitted_count.sort_values(ascending=False).index[:50])\n",
    "\n",
    "\n",
    "##### Create a dataframe with the 50 top categories to be concatenated later to the complete dataframe\n",
    "categories_df = dummies[top50categories]\n",
    "categories_df = categories_df.add_prefix('Category_')"
   ]
  },
  {
   "cell_type": "markdown",
   "metadata": {},
   "source": [
    "### Comparing investments.csv and rounds.csv"
   ]
  },
  {
   "cell_type": "code",
   "execution_count": 10,
   "metadata": {},
   "outputs": [],
   "source": [
    "#Let's start by comparing and understanding the difference between investments.csv and rounds.csv\n",
    "df_investments = pd.read_csv('data/investments.csv')\n",
    "df_investments = df_investments[df_investments['company_country_code'] == 'USA']\n",
    "\n",
    "df_rounds = pd.read_csv('data/rounds.csv')\n",
    "df_rounds = df_rounds[df_rounds['company_country_code'] == 'USA']"
   ]
  },
  {
   "cell_type": "code",
   "execution_count": 193,
   "metadata": {
    "scrolled": true
   },
   "outputs": [
    {
     "data": {
      "text/html": [
       "<div>\n",
       "<table border=\"1\" class=\"dataframe\">\n",
       "  <thead>\n",
       "    <tr style=\"text-align: right;\">\n",
       "      <th></th>\n",
       "      <th>company_permalink</th>\n",
       "      <th>company_name</th>\n",
       "      <th>company_category_list</th>\n",
       "      <th>company_country_code</th>\n",
       "      <th>company_state_code</th>\n",
       "      <th>company_region</th>\n",
       "      <th>company_city</th>\n",
       "      <th>funding_round_permalink</th>\n",
       "      <th>funding_round_type</th>\n",
       "      <th>funding_round_code</th>\n",
       "      <th>funded_at</th>\n",
       "      <th>raised_amount_usd</th>\n",
       "    </tr>\n",
       "  </thead>\n",
       "  <tbody>\n",
       "    <tr>\n",
       "      <th>9</th>\n",
       "      <td>/organization/0xdata</td>\n",
       "      <td>H2O.ai</td>\n",
       "      <td>Analytics</td>\n",
       "      <td>USA</td>\n",
       "      <td>CA</td>\n",
       "      <td>SF Bay Area</td>\n",
       "      <td>Mountain View</td>\n",
       "      <td>/funding-round/383a9bd2c04f7038bb543ccef5ba3eae</td>\n",
       "      <td>seed</td>\n",
       "      <td>NaN</td>\n",
       "      <td>2013-05-22</td>\n",
       "      <td>3000000.0</td>\n",
       "    </tr>\n",
       "    <tr>\n",
       "      <th>10</th>\n",
       "      <td>/organization/0xdata</td>\n",
       "      <td>H2O.ai</td>\n",
       "      <td>Analytics</td>\n",
       "      <td>USA</td>\n",
       "      <td>CA</td>\n",
       "      <td>SF Bay Area</td>\n",
       "      <td>Mountain View</td>\n",
       "      <td>/funding-round/3bb2ee4a2d89251a10aaa735b1180e44</td>\n",
       "      <td>venture</td>\n",
       "      <td>B</td>\n",
       "      <td>2015-11-09</td>\n",
       "      <td>20000000.0</td>\n",
       "    </tr>\n",
       "    <tr>\n",
       "      <th>11</th>\n",
       "      <td>/organization/0xdata</td>\n",
       "      <td>H2O.ai</td>\n",
       "      <td>Analytics</td>\n",
       "      <td>USA</td>\n",
       "      <td>CA</td>\n",
       "      <td>SF Bay Area</td>\n",
       "      <td>Mountain View</td>\n",
       "      <td>/funding-round/ae2a174c06517c2394aed45006322a7e</td>\n",
       "      <td>venture</td>\n",
       "      <td>NaN</td>\n",
       "      <td>2013-01-03</td>\n",
       "      <td>1700000.0</td>\n",
       "    </tr>\n",
       "    <tr>\n",
       "      <th>12</th>\n",
       "      <td>/organization/0xdata</td>\n",
       "      <td>H2O.ai</td>\n",
       "      <td>Analytics</td>\n",
       "      <td>USA</td>\n",
       "      <td>CA</td>\n",
       "      <td>SF Bay Area</td>\n",
       "      <td>Mountain View</td>\n",
       "      <td>/funding-round/e1cfcbe1bdf4c70277c5f29a3482f24e</td>\n",
       "      <td>venture</td>\n",
       "      <td>A</td>\n",
       "      <td>2014-07-19</td>\n",
       "      <td>8900000.0</td>\n",
       "    </tr>\n",
       "  </tbody>\n",
       "</table>\n",
       "</div>"
      ],
      "text/plain": [
       "       company_permalink company_name company_category_list  \\\n",
       "9   /organization/0xdata       H2O.ai             Analytics   \n",
       "10  /organization/0xdata       H2O.ai             Analytics   \n",
       "11  /organization/0xdata       H2O.ai             Analytics   \n",
       "12  /organization/0xdata       H2O.ai             Analytics   \n",
       "\n",
       "   company_country_code company_state_code company_region   company_city  \\\n",
       "9                   USA                 CA    SF Bay Area  Mountain View   \n",
       "10                  USA                 CA    SF Bay Area  Mountain View   \n",
       "11                  USA                 CA    SF Bay Area  Mountain View   \n",
       "12                  USA                 CA    SF Bay Area  Mountain View   \n",
       "\n",
       "                            funding_round_permalink funding_round_type  \\\n",
       "9   /funding-round/383a9bd2c04f7038bb543ccef5ba3eae               seed   \n",
       "10  /funding-round/3bb2ee4a2d89251a10aaa735b1180e44            venture   \n",
       "11  /funding-round/ae2a174c06517c2394aed45006322a7e            venture   \n",
       "12  /funding-round/e1cfcbe1bdf4c70277c5f29a3482f24e            venture   \n",
       "\n",
       "   funding_round_code   funded_at  raised_amount_usd  \n",
       "9                 NaN  2013-05-22          3000000.0  \n",
       "10                  B  2015-11-09         20000000.0  \n",
       "11                NaN  2013-01-03          1700000.0  \n",
       "12                  A  2014-07-19          8900000.0  "
      ]
     },
     "execution_count": 193,
     "metadata": {},
     "output_type": "execute_result"
    }
   ],
   "source": [
    "\n",
    "#companies_USA[companies_USA['permalink'] == '/organization/0xdata']\n",
    "#df_investments[df_investments['company_permalink'] == '/organization/0xdata' ]\n",
    "#df_rounds[df_rounds['company_permalink'] == '/organization/0xdata' ]"
   ]
  },
  {
   "cell_type": "markdown",
   "metadata": {},
   "source": [
    "The difference between investments and rounds is that investments is providing the information of where the money came from. Investments contains information about which investors paid each round. While rounds is grouping and totalizing the information by round."
   ]
  },
  {
   "cell_type": "markdown",
   "metadata": {},
   "source": [
    "### Analyzing rounds.csv"
   ]
  },
  {
   "cell_type": "code",
   "execution_count": 12,
   "metadata": {},
   "outputs": [],
   "source": [
    "#df_rounds\n",
    "\n",
    "\n",
    "#Prepare an aggregated rounds dataframe grouped by company and funding type\n",
    "rounds_agg = df_rounds.groupby(['company_permalink', 'funding_round_type'])['raised_amount_usd'].agg({'amount': [ pd.Series.sum, pd.Series.count]})"
   ]
  },
  {
   "cell_type": "code",
   "execution_count": 13,
   "metadata": {},
   "outputs": [
    {
     "data": {
      "text/plain": [
       "['angel',\n",
       " 'convertible_note',\n",
       " 'debt_financing',\n",
       " 'equity_crowdfunding',\n",
       " 'grant',\n",
       " 'non_equity_assistance',\n",
       " 'post_ipo_debt',\n",
       " 'post_ipo_equity',\n",
       " 'private_equity',\n",
       " 'product_crowdfunding',\n",
       " 'secondary_market',\n",
       " 'seed',\n",
       " 'undisclosed',\n",
       " 'venture']"
      ]
     },
     "execution_count": 13,
     "metadata": {},
     "output_type": "execute_result"
    }
   ],
   "source": [
    "#Get available unique funding types\n",
    "funding_types = list(rounds_agg.index.levels[1])\n",
    "funding_types"
   ]
  },
  {
   "cell_type": "code",
   "execution_count": 14,
   "metadata": {},
   "outputs": [
    {
     "data": {
      "text/html": [
       "<div>\n",
       "<table border=\"1\" class=\"dataframe\">\n",
       "  <thead>\n",
       "    <tr style=\"text-align: right;\">\n",
       "      <th></th>\n",
       "      <th>angel_funding_total_usd</th>\n",
       "      <th>angel_funding_rounds</th>\n",
       "      <th>convertible_note_funding_total_usd</th>\n",
       "      <th>convertible_note_funding_rounds</th>\n",
       "      <th>debt_financing_funding_total_usd</th>\n",
       "      <th>debt_financing_funding_rounds</th>\n",
       "      <th>equity_crowdfunding_funding_total_usd</th>\n",
       "      <th>equity_crowdfunding_funding_rounds</th>\n",
       "      <th>grant_funding_total_usd</th>\n",
       "      <th>grant_funding_rounds</th>\n",
       "      <th>...</th>\n",
       "      <th>product_crowdfunding_funding_total_usd</th>\n",
       "      <th>product_crowdfunding_funding_rounds</th>\n",
       "      <th>secondary_market_funding_total_usd</th>\n",
       "      <th>secondary_market_funding_rounds</th>\n",
       "      <th>seed_funding_total_usd</th>\n",
       "      <th>seed_funding_rounds</th>\n",
       "      <th>undisclosed_funding_total_usd</th>\n",
       "      <th>undisclosed_funding_rounds</th>\n",
       "      <th>venture_funding_total_usd</th>\n",
       "      <th>venture_funding_rounds</th>\n",
       "    </tr>\n",
       "  </thead>\n",
       "  <tbody>\n",
       "    <tr>\n",
       "      <th>1</th>\n",
       "      <td>0.0</td>\n",
       "      <td>0.0</td>\n",
       "      <td>0.0</td>\n",
       "      <td>0.0</td>\n",
       "      <td>0.0</td>\n",
       "      <td>0.0</td>\n",
       "      <td>0.0</td>\n",
       "      <td>0.0</td>\n",
       "      <td>0.0</td>\n",
       "      <td>0.0</td>\n",
       "      <td>...</td>\n",
       "      <td>0.0</td>\n",
       "      <td>0.0</td>\n",
       "      <td>0.0</td>\n",
       "      <td>0.0</td>\n",
       "      <td>700000.0</td>\n",
       "      <td>1.0</td>\n",
       "      <td>0.0</td>\n",
       "      <td>0.0</td>\n",
       "      <td>0.0</td>\n",
       "      <td>0.0</td>\n",
       "    </tr>\n",
       "    <tr>\n",
       "      <th>4</th>\n",
       "      <td>0.0</td>\n",
       "      <td>0.0</td>\n",
       "      <td>0.0</td>\n",
       "      <td>0.0</td>\n",
       "      <td>0.0</td>\n",
       "      <td>0.0</td>\n",
       "      <td>0.0</td>\n",
       "      <td>0.0</td>\n",
       "      <td>0.0</td>\n",
       "      <td>0.0</td>\n",
       "      <td>...</td>\n",
       "      <td>0.0</td>\n",
       "      <td>0.0</td>\n",
       "      <td>0.0</td>\n",
       "      <td>0.0</td>\n",
       "      <td>0.0</td>\n",
       "      <td>0.0</td>\n",
       "      <td>0.0</td>\n",
       "      <td>0.0</td>\n",
       "      <td>0.0</td>\n",
       "      <td>0.0</td>\n",
       "    </tr>\n",
       "    <tr>\n",
       "      <th>7</th>\n",
       "      <td>0.0</td>\n",
       "      <td>0.0</td>\n",
       "      <td>0.0</td>\n",
       "      <td>0.0</td>\n",
       "      <td>0.0</td>\n",
       "      <td>0.0</td>\n",
       "      <td>0.0</td>\n",
       "      <td>0.0</td>\n",
       "      <td>0.0</td>\n",
       "      <td>0.0</td>\n",
       "      <td>...</td>\n",
       "      <td>0.0</td>\n",
       "      <td>0.0</td>\n",
       "      <td>0.0</td>\n",
       "      <td>0.0</td>\n",
       "      <td>3000000.0</td>\n",
       "      <td>1.0</td>\n",
       "      <td>0.0</td>\n",
       "      <td>0.0</td>\n",
       "      <td>30600000.0</td>\n",
       "      <td>3.0</td>\n",
       "    </tr>\n",
       "  </tbody>\n",
       "</table>\n",
       "<p>3 rows × 28 columns</p>\n",
       "</div>"
      ],
      "text/plain": [
       "   angel_funding_total_usd  angel_funding_rounds  \\\n",
       "1                      0.0                   0.0   \n",
       "4                      0.0                   0.0   \n",
       "7                      0.0                   0.0   \n",
       "\n",
       "   convertible_note_funding_total_usd  convertible_note_funding_rounds  \\\n",
       "1                                 0.0                              0.0   \n",
       "4                                 0.0                              0.0   \n",
       "7                                 0.0                              0.0   \n",
       "\n",
       "   debt_financing_funding_total_usd  debt_financing_funding_rounds  \\\n",
       "1                               0.0                            0.0   \n",
       "4                               0.0                            0.0   \n",
       "7                               0.0                            0.0   \n",
       "\n",
       "   equity_crowdfunding_funding_total_usd  equity_crowdfunding_funding_rounds  \\\n",
       "1                                    0.0                                 0.0   \n",
       "4                                    0.0                                 0.0   \n",
       "7                                    0.0                                 0.0   \n",
       "\n",
       "   grant_funding_total_usd  grant_funding_rounds           ...            \\\n",
       "1                      0.0                   0.0           ...             \n",
       "4                      0.0                   0.0           ...             \n",
       "7                      0.0                   0.0           ...             \n",
       "\n",
       "   product_crowdfunding_funding_total_usd  \\\n",
       "1                                     0.0   \n",
       "4                                     0.0   \n",
       "7                                     0.0   \n",
       "\n",
       "   product_crowdfunding_funding_rounds  secondary_market_funding_total_usd  \\\n",
       "1                                  0.0                                 0.0   \n",
       "4                                  0.0                                 0.0   \n",
       "7                                  0.0                                 0.0   \n",
       "\n",
       "   secondary_market_funding_rounds  seed_funding_total_usd  \\\n",
       "1                              0.0                700000.0   \n",
       "4                              0.0                     0.0   \n",
       "7                              0.0               3000000.0   \n",
       "\n",
       "   seed_funding_rounds  undisclosed_funding_total_usd  \\\n",
       "1                  1.0                            0.0   \n",
       "4                  0.0                            0.0   \n",
       "7                  1.0                            0.0   \n",
       "\n",
       "   undisclosed_funding_rounds  venture_funding_total_usd  \\\n",
       "1                         0.0                        0.0   \n",
       "4                         0.0                        0.0   \n",
       "7                         0.0                 30600000.0   \n",
       "\n",
       "   venture_funding_rounds  \n",
       "1                     0.0  \n",
       "4                     0.0  \n",
       "7                     3.0  \n",
       "\n",
       "[3 rows x 28 columns]"
      ]
     },
     "execution_count": 14,
     "metadata": {},
     "output_type": "execute_result"
    }
   ],
   "source": [
    "#Prepare the dataframe where all the dummy features for each funding type will be added (number of rounds and total sum for each type)\n",
    "rounds_df = companies_USA[['permalink']]\n",
    "rounds_df = rounds_df.rename(columns = {'permalink':'company_permalink'})\n",
    "\n",
    "\n",
    "#Iterate over each kind of funding type, and add two new features for each into the dataframe\n",
    "def add_dummy_for_funding_type(df, aggr_rounds, funding_type):\n",
    "    funding_df = aggr_rounds.iloc[aggr_rounds.index.get_level_values('funding_round_type') == funding_type].reset_index()\n",
    "    funding_df.columns = funding_df.columns.droplevel()\n",
    "    funding_df.columns = ['company_permalink', funding_type, funding_type+'_funding_total_usd', funding_type+'_funding_rounds']\n",
    "    funding_df = funding_df.drop(funding_type,1)\n",
    "    \n",
    "    new_df = pd.merge(df, funding_df, on='company_permalink', how='left')\n",
    "    new_df = new_df.fillna(0)\n",
    "    return new_df\n",
    "    \n",
    "#rounds_agg was generated a few steps above\n",
    "for funding_type in funding_types:\n",
    "    rounds_df = add_dummy_for_funding_type(rounds_df, rounds_agg, funding_type)\n",
    "\n",
    "#remove the company_permalink variable, since it's already available in the companies dataframe\n",
    "rounds_df = rounds_df.drop('company_permalink', 1)\n",
    "\n",
    "#set rounds_df to have the same index of the other dataframes\n",
    "rounds_df.index = companies_USA.index\n",
    "\n",
    "rounds_df[:3]\n",
    "\n",
    "\n"
   ]
  },
  {
   "cell_type": "markdown",
   "metadata": {},
   "source": [
    "### Merging 3 dataframes (companies, categories and rounds)"
   ]
  },
  {
   "cell_type": "code",
   "execution_count": 15,
   "metadata": {
    "scrolled": true
   },
   "outputs": [
    {
     "data": {
      "text/html": [
       "<div>\n",
       "<table border=\"1\" class=\"dataframe\">\n",
       "  <thead>\n",
       "    <tr style=\"text-align: right;\">\n",
       "      <th></th>\n",
       "      <th>permalink</th>\n",
       "      <th>name</th>\n",
       "      <th>homepage_url</th>\n",
       "      <th>category_list</th>\n",
       "      <th>funding_total_usd</th>\n",
       "      <th>status</th>\n",
       "      <th>country_code</th>\n",
       "      <th>state_code</th>\n",
       "      <th>region</th>\n",
       "      <th>city</th>\n",
       "      <th>...</th>\n",
       "      <th>product_crowdfunding_funding_total_usd</th>\n",
       "      <th>product_crowdfunding_funding_rounds</th>\n",
       "      <th>secondary_market_funding_total_usd</th>\n",
       "      <th>secondary_market_funding_rounds</th>\n",
       "      <th>seed_funding_total_usd</th>\n",
       "      <th>seed_funding_rounds</th>\n",
       "      <th>undisclosed_funding_total_usd</th>\n",
       "      <th>undisclosed_funding_rounds</th>\n",
       "      <th>venture_funding_total_usd</th>\n",
       "      <th>venture_funding_rounds</th>\n",
       "    </tr>\n",
       "  </thead>\n",
       "  <tbody>\n",
       "    <tr>\n",
       "      <th>1</th>\n",
       "      <td>/organization/-qounter</td>\n",
       "      <td>:Qounter</td>\n",
       "      <td>http://www.qounter.com</td>\n",
       "      <td>Application Platforms|Real Time|Social Network...</td>\n",
       "      <td>700000</td>\n",
       "      <td>operating</td>\n",
       "      <td>USA</td>\n",
       "      <td>DE</td>\n",
       "      <td>DE - Other</td>\n",
       "      <td>Delaware City</td>\n",
       "      <td>...</td>\n",
       "      <td>0.0</td>\n",
       "      <td>0.0</td>\n",
       "      <td>0.0</td>\n",
       "      <td>0.0</td>\n",
       "      <td>700000.0</td>\n",
       "      <td>1.0</td>\n",
       "      <td>0.0</td>\n",
       "      <td>0.0</td>\n",
       "      <td>0.0</td>\n",
       "      <td>0.0</td>\n",
       "    </tr>\n",
       "    <tr>\n",
       "      <th>4</th>\n",
       "      <td>/organization/004-technologies</td>\n",
       "      <td>004 Technologies</td>\n",
       "      <td>http://004gmbh.de/en/004-interact</td>\n",
       "      <td>Software</td>\n",
       "      <td>-</td>\n",
       "      <td>operating</td>\n",
       "      <td>USA</td>\n",
       "      <td>IL</td>\n",
       "      <td>Springfield, Illinois</td>\n",
       "      <td>Champaign</td>\n",
       "      <td>...</td>\n",
       "      <td>0.0</td>\n",
       "      <td>0.0</td>\n",
       "      <td>0.0</td>\n",
       "      <td>0.0</td>\n",
       "      <td>0.0</td>\n",
       "      <td>0.0</td>\n",
       "      <td>0.0</td>\n",
       "      <td>0.0</td>\n",
       "      <td>0.0</td>\n",
       "      <td>0.0</td>\n",
       "    </tr>\n",
       "    <tr>\n",
       "      <th>7</th>\n",
       "      <td>/organization/0xdata</td>\n",
       "      <td>H2O.ai</td>\n",
       "      <td>http://h2o.ai/</td>\n",
       "      <td>Analytics</td>\n",
       "      <td>33600000</td>\n",
       "      <td>operating</td>\n",
       "      <td>USA</td>\n",
       "      <td>CA</td>\n",
       "      <td>SF Bay Area</td>\n",
       "      <td>Mountain View</td>\n",
       "      <td>...</td>\n",
       "      <td>0.0</td>\n",
       "      <td>0.0</td>\n",
       "      <td>0.0</td>\n",
       "      <td>0.0</td>\n",
       "      <td>3000000.0</td>\n",
       "      <td>1.0</td>\n",
       "      <td>0.0</td>\n",
       "      <td>0.0</td>\n",
       "      <td>30600000.0</td>\n",
       "      <td>3.0</td>\n",
       "    </tr>\n",
       "  </tbody>\n",
       "</table>\n",
       "<p>3 rows × 92 columns</p>\n",
       "</div>"
      ],
      "text/plain": [
       "                        permalink              name  \\\n",
       "1          /organization/-qounter          :Qounter   \n",
       "4  /organization/004-technologies  004 Technologies   \n",
       "7            /organization/0xdata            H2O.ai   \n",
       "\n",
       "                        homepage_url  \\\n",
       "1             http://www.qounter.com   \n",
       "4  http://004gmbh.de/en/004-interact   \n",
       "7                     http://h2o.ai/   \n",
       "\n",
       "                                       category_list funding_total_usd  \\\n",
       "1  Application Platforms|Real Time|Social Network...            700000   \n",
       "4                                           Software                 -   \n",
       "7                                          Analytics          33600000   \n",
       "\n",
       "      status country_code state_code                 region           city  \\\n",
       "1  operating          USA         DE             DE - Other  Delaware City   \n",
       "4  operating          USA         IL  Springfield, Illinois      Champaign   \n",
       "7  operating          USA         CA            SF Bay Area  Mountain View   \n",
       "\n",
       "            ...            product_crowdfunding_funding_total_usd  \\\n",
       "1           ...                                               0.0   \n",
       "4           ...                                               0.0   \n",
       "7           ...                                               0.0   \n",
       "\n",
       "  product_crowdfunding_funding_rounds secondary_market_funding_total_usd  \\\n",
       "1                                 0.0                                0.0   \n",
       "4                                 0.0                                0.0   \n",
       "7                                 0.0                                0.0   \n",
       "\n",
       "  secondary_market_funding_rounds  seed_funding_total_usd  \\\n",
       "1                             0.0                700000.0   \n",
       "4                             0.0                     0.0   \n",
       "7                             0.0               3000000.0   \n",
       "\n",
       "   seed_funding_rounds  undisclosed_funding_total_usd  \\\n",
       "1                  1.0                            0.0   \n",
       "4                  0.0                            0.0   \n",
       "7                  1.0                            0.0   \n",
       "\n",
       "   undisclosed_funding_rounds  venture_funding_total_usd  \\\n",
       "1                         0.0                        0.0   \n",
       "4                         0.0                        0.0   \n",
       "7                         0.0                 30600000.0   \n",
       "\n",
       "   venture_funding_rounds  \n",
       "1                     0.0  \n",
       "4                     0.0  \n",
       "7                     3.0  \n",
       "\n",
       "[3 rows x 92 columns]"
      ]
     },
     "execution_count": 15,
     "metadata": {},
     "output_type": "execute_result"
    }
   ],
   "source": [
    "startups_df = pd.concat([companies_USA, categories_df, rounds_df], axis=1, ignore_index=False)\n",
    "startups_df[:3]"
   ]
  },
  {
   "cell_type": "markdown",
   "metadata": {},
   "source": [
    "### Write resulting dataframe to csv file"
   ]
  },
  {
   "cell_type": "code",
   "execution_count": 212,
   "metadata": {},
   "outputs": [],
   "source": [
    "startups_df.index = list(startups_df['permalink'])\n",
    "startups_df = startups_df.drop('permalink', 1)"
   ]
  },
  {
   "cell_type": "code",
   "execution_count": 211,
   "metadata": {},
   "outputs": [],
   "source": [
    "startups_df.to_csv('data/startups_1.csv')\n",
    "#startups_df"
   ]
  },
  {
   "cell_type": "code",
   "execution_count": 1,
   "metadata": {},
   "outputs": [
    {
     "ename": "NameError",
     "evalue": "name 'categories_df' is not defined",
     "output_type": "error",
     "traceback": [
      "\u001b[1;31m---------------------------------------------------------------------------\u001b[0m",
      "\u001b[1;31mNameError\u001b[0m                                 Traceback (most recent call last)",
      "\u001b[1;32m<ipython-input-1-f20e24ff2007>\u001b[0m in \u001b[0;36m<module>\u001b[1;34m()\u001b[0m\n\u001b[1;32m----> 1\u001b[1;33m \u001b[0mcategories_df\u001b[0m\u001b[1;33m\u001b[0m\u001b[0m\n\u001b[0m",
      "\u001b[1;31mNameError\u001b[0m: name 'categories_df' is not defined"
     ]
    }
   ],
   "source": []
  }
 ],
 "metadata": {
  "anaconda-cloud": {},
  "kernelspec": {
   "display_name": "Python [default]",
   "language": "python",
   "name": "python2"
  },
  "language_info": {
   "codemirror_mode": {
    "name": "ipython",
    "version": 2
   },
   "file_extension": ".py",
   "mimetype": "text/x-python",
   "name": "python",
   "nbconvert_exporter": "python",
   "pygments_lexer": "ipython2",
   "version": "2.7.13"
  }
 },
 "nbformat": 4,
 "nbformat_minor": 2
}
