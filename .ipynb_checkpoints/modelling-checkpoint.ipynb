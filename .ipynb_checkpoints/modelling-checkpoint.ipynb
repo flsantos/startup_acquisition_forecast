{
 "cells": [
  {
   "cell_type": "markdown",
   "metadata": {},
   "source": [
    "# 1. Classification Modelling"
   ]
  },
  {
   "cell_type": "markdown",
   "metadata": {},
   "source": [
    "## Overview\n",
    "In this phase, we already have our dataset completely prepared and normalized, ready to be applied into classification algorithms. We'll first split our dataset and leave aside 20% of our data, to be tested only in the end of this process, after training a few different classification models. The one with best performance in this final test dataset will be our best model."
   ]
  },
  {
   "cell_type": "markdown",
   "metadata": {},
   "source": [
    "## Load pre-processed dataset"
   ]
  },
  {
   "cell_type": "code",
   "execution_count": 106,
   "metadata": {},
   "outputs": [],
   "source": [
    "#All imports here\n",
    "import numpy as np\n",
    "import pandas as pd\n",
    "import seaborn as sns\n",
    "import matplotlib.pyplot as plt\n",
    "from IPython.display import display, HTML\n",
    "\n",
    "from sklearn.model_selection import train_test_split\n",
    "from sklearn.tree import DecisionTreeClassifier\n",
    "from sklearn.ensemble import RandomForestClassifier\n",
    "from sklearn.svm import SVC\n",
    "from sklearn.decomposition import PCA\n",
    "from sklearn.neighbors import KNeighborsClassifier\n",
    "\n",
    "from sklearn.model_selection import train_test_split\n",
    "from sklearn.metrics import roc_auc_score\n",
    "from sklearn.metrics import confusion_matrix\n",
    "from sklearn import grid_search\n",
    "\n",
    "\n",
    "%matplotlib inline"
   ]
  },
  {
   "cell_type": "code",
   "execution_count": 3,
   "metadata": {},
   "outputs": [
    {
     "data": {
      "text/html": [
       "<div>\n",
       "<style>\n",
       "    .dataframe thead tr:only-child th {\n",
       "        text-align: right;\n",
       "    }\n",
       "\n",
       "    .dataframe thead th {\n",
       "        text-align: left;\n",
       "    }\n",
       "\n",
       "    .dataframe tbody tr th {\n",
       "        vertical-align: top;\n",
       "    }\n",
       "</style>\n",
       "<table border=\"1\" class=\"dataframe\">\n",
       "  <thead>\n",
       "    <tr style=\"text-align: right;\">\n",
       "      <th></th>\n",
       "      <th>funding_total_usd</th>\n",
       "      <th>funding_rounds</th>\n",
       "      <th>founded_at</th>\n",
       "      <th>first_funding_at</th>\n",
       "      <th>last_funding_at</th>\n",
       "      <th>Category_Software</th>\n",
       "      <th>Category_Biotechnology</th>\n",
       "      <th>Category_Mobile</th>\n",
       "      <th>Category_Enterprise Software</th>\n",
       "      <th>Category_E-Commerce</th>\n",
       "      <th>...</th>\n",
       "      <th>State_IL</th>\n",
       "      <th>State_PA</th>\n",
       "      <th>State_CO</th>\n",
       "      <th>State_VA</th>\n",
       "      <th>State_NJ</th>\n",
       "      <th>State_GA</th>\n",
       "      <th>State_OH</th>\n",
       "      <th>State_NC</th>\n",
       "      <th>State_MD</th>\n",
       "      <th>status</th>\n",
       "    </tr>\n",
       "    <tr>\n",
       "      <th>permalink</th>\n",
       "      <th></th>\n",
       "      <th></th>\n",
       "      <th></th>\n",
       "      <th></th>\n",
       "      <th></th>\n",
       "      <th></th>\n",
       "      <th></th>\n",
       "      <th></th>\n",
       "      <th></th>\n",
       "      <th></th>\n",
       "      <th></th>\n",
       "      <th></th>\n",
       "      <th></th>\n",
       "      <th></th>\n",
       "      <th></th>\n",
       "      <th></th>\n",
       "      <th></th>\n",
       "      <th></th>\n",
       "      <th></th>\n",
       "      <th></th>\n",
       "      <th></th>\n",
       "    </tr>\n",
       "  </thead>\n",
       "  <tbody>\n",
       "    <tr>\n",
       "      <th>/organization/-qounter</th>\n",
       "      <td>0.000023</td>\n",
       "      <td>0.055556</td>\n",
       "      <td>0.005917</td>\n",
       "      <td>0.002825</td>\n",
       "      <td>0.027344</td>\n",
       "      <td>0</td>\n",
       "      <td>0</td>\n",
       "      <td>0</td>\n",
       "      <td>0</td>\n",
       "      <td>0</td>\n",
       "      <td>...</td>\n",
       "      <td>0</td>\n",
       "      <td>0</td>\n",
       "      <td>0</td>\n",
       "      <td>0</td>\n",
       "      <td>0</td>\n",
       "      <td>0</td>\n",
       "      <td>0</td>\n",
       "      <td>0</td>\n",
       "      <td>0</td>\n",
       "      <td>operating</td>\n",
       "    </tr>\n",
       "    <tr>\n",
       "      <th>/organization/004-technologies</th>\n",
       "      <td>0.000000</td>\n",
       "      <td>0.000000</td>\n",
       "      <td>0.018409</td>\n",
       "      <td>0.002410</td>\n",
       "      <td>0.033203</td>\n",
       "      <td>1</td>\n",
       "      <td>0</td>\n",
       "      <td>0</td>\n",
       "      <td>0</td>\n",
       "      <td>0</td>\n",
       "      <td>...</td>\n",
       "      <td>1</td>\n",
       "      <td>0</td>\n",
       "      <td>0</td>\n",
       "      <td>0</td>\n",
       "      <td>0</td>\n",
       "      <td>0</td>\n",
       "      <td>0</td>\n",
       "      <td>0</td>\n",
       "      <td>0</td>\n",
       "      <td>operating</td>\n",
       "    </tr>\n",
       "    <tr>\n",
       "      <th>/organization/0xdata</th>\n",
       "      <td>0.001117</td>\n",
       "      <td>0.166667</td>\n",
       "      <td>0.015779</td>\n",
       "      <td>0.003906</td>\n",
       "      <td>0.001953</td>\n",
       "      <td>0</td>\n",
       "      <td>0</td>\n",
       "      <td>0</td>\n",
       "      <td>0</td>\n",
       "      <td>0</td>\n",
       "      <td>...</td>\n",
       "      <td>0</td>\n",
       "      <td>0</td>\n",
       "      <td>0</td>\n",
       "      <td>0</td>\n",
       "      <td>0</td>\n",
       "      <td>0</td>\n",
       "      <td>0</td>\n",
       "      <td>0</td>\n",
       "      <td>0</td>\n",
       "      <td>operating</td>\n",
       "    </tr>\n",
       "  </tbody>\n",
       "</table>\n",
       "<p>3 rows × 104 columns</p>\n",
       "</div>"
      ],
      "text/plain": [
       "                                funding_total_usd  funding_rounds  founded_at  \\\n",
       "permalink                                                                       \n",
       "/organization/-qounter                   0.000023        0.055556    0.005917   \n",
       "/organization/004-technologies           0.000000        0.000000    0.018409   \n",
       "/organization/0xdata                     0.001117        0.166667    0.015779   \n",
       "\n",
       "                                first_funding_at  last_funding_at  \\\n",
       "permalink                                                           \n",
       "/organization/-qounter                  0.002825         0.027344   \n",
       "/organization/004-technologies          0.002410         0.033203   \n",
       "/organization/0xdata                    0.003906         0.001953   \n",
       "\n",
       "                                Category_Software  Category_Biotechnology  \\\n",
       "permalink                                                                   \n",
       "/organization/-qounter                          0                       0   \n",
       "/organization/004-technologies                  1                       0   \n",
       "/organization/0xdata                            0                       0   \n",
       "\n",
       "                                Category_Mobile  Category_Enterprise Software  \\\n",
       "permalink                                                                       \n",
       "/organization/-qounter                        0                             0   \n",
       "/organization/004-technologies                0                             0   \n",
       "/organization/0xdata                          0                             0   \n",
       "\n",
       "                                Category_E-Commerce    ...      State_IL  \\\n",
       "permalink                                              ...                 \n",
       "/organization/-qounter                            0    ...             0   \n",
       "/organization/004-technologies                    0    ...             1   \n",
       "/organization/0xdata                              0    ...             0   \n",
       "\n",
       "                                State_PA  State_CO  State_VA  State_NJ  \\\n",
       "permalink                                                                \n",
       "/organization/-qounter                 0         0         0         0   \n",
       "/organization/004-technologies         0         0         0         0   \n",
       "/organization/0xdata                   0         0         0         0   \n",
       "\n",
       "                                State_GA  State_OH  State_NC  State_MD  \\\n",
       "permalink                                                                \n",
       "/organization/-qounter                 0         0         0         0   \n",
       "/organization/004-technologies         0         0         0         0   \n",
       "/organization/0xdata                   0         0         0         0   \n",
       "\n",
       "                                   status  \n",
       "permalink                                  \n",
       "/organization/-qounter          operating  \n",
       "/organization/004-technologies  operating  \n",
       "/organization/0xdata            operating  \n",
       "\n",
       "[3 rows x 104 columns]"
      ]
     },
     "execution_count": 3,
     "metadata": {},
     "output_type": "execute_result"
    }
   ],
   "source": [
    "startups = pd.read_csv('data/startups_pre_processed.csv', index_col=0)\n",
    "startups[:3]"
   ]
  },
  {
   "cell_type": "markdown",
   "metadata": {},
   "source": [
    "## Define acquired status as our target variable\n",
    "\n",
    "We are trying to forecast which startups are more likely to be acquired, so we are defining 'acquired' startups as 1 and the rest as 0. \n",
    "\n",
    "Also, in this phase, it was decided to remove from the dataset startups with status IPO, since they can be considered as successfull startups but that's not the point of this project."
   ]
  },
  {
   "cell_type": "code",
   "execution_count": 4,
   "metadata": {
    "collapsed": true
   },
   "outputs": [],
   "source": [
    "startups = startups[startups['status'] != 'ipo']"
   ]
  },
  {
   "cell_type": "code",
   "execution_count": 5,
   "metadata": {
    "collapsed": true
   },
   "outputs": [],
   "source": [
    "startups['acquired'] = startups['status'].replace({'acquired':1, 'operating':0, 'closed':0})\n",
    "startups = startups.drop('status', 1)"
   ]
  },
  {
   "cell_type": "code",
   "execution_count": 6,
   "metadata": {},
   "outputs": [
    {
     "data": {
      "image/png": "[encoded data removed]",
      "text/plain": [
       "<matplotlib.figure.Figure at 0x10eb8b00>"
      ]
     },
     "metadata": {},
     "output_type": "display_data"
    }
   ],
   "source": [
    "ax = startups['acquired'].replace({0:'not acquired', 1:'acquired'}).value_counts().plot(kind='bar', title=\"Acquired startups\", rot=0)"
   ]
  },
  {
   "cell_type": "markdown",
   "metadata": {},
   "source": [
    "## Train/Test Split\n",
    "We'll now split the dataset, leaving the test dataset as it is in a real world observation ( imbalanced )."
   ]
  },
  {
   "cell_type": "code",
   "execution_count": 7,
   "metadata": {
    "collapsed": true
   },
   "outputs": [],
   "source": [
    "dtrain, dtest = train_test_split(startups, test_size = 0.2, random_state=42, stratify=startups['acquired'])"
   ]
  },
  {
   "cell_type": "markdown",
   "metadata": {},
   "source": [
    "## General model evualator\n",
    "Let's define a helper function to train and evaluate models using GridSearchCV"
   ]
  },
  {
   "cell_type": "code",
   "execution_count": 8,
   "metadata": {
    "collapsed": true
   },
   "outputs": [],
   "source": [
    "def run_classifier(parameters, classifier, df):\n",
    "    seed = 42\n",
    "    np.random.seed(seed)\n",
    "    X = df.iloc[:, :-1]\n",
    "    y = df['acquired']\n",
    "    X_train, X_test, y_train, y_test = train_test_split(X, y, test_size=0.2, random_state=seed, stratify=y)\n",
    "    clf = grid_search.GridSearchCV(classifier, parameters, n_jobs=-1, scoring='roc_auc', cv=5)\n",
    "    clf.fit(X=X_train, y=y_train)\n",
    "    model = clf.best_estimator_\n",
    "    print ('Avg auc score: '+str(clf.best_score_), 'Best params: '+str(clf.best_params_))\n",
    "    print 'Auc score on Train       set: {0:0.3f}'.format(roc_auc_score(y_train, model.predict(X_train)))\n",
    "    print 'Auc score on Validation  set: {0:0.3f}'.format(roc_auc_score(y_test, model.predict(X_test)))\n",
    "    cm = pd.crosstab(y_test, model.predict(X_test), rownames=['True'], colnames=['Predicted'], margins=True)\n",
    "    print 'FP rate: {0:0.1f}%'.format(cm[1][0]/float(cm['All'][0])*100)\n",
    "    print 'TP rate: {0:0.1f}%'.format(cm[1][1]/float(cm['All'][1])*100)\n",
    "    \n",
    "    return model"
   ]
  },
  {
   "cell_type": "markdown",
   "metadata": {},
   "source": [
    "## Random Forest"
   ]
  },
  {
   "cell_type": "code",
   "execution_count": 102,
   "metadata": {},
   "outputs": [
    {
     "name": "stdout",
     "output_type": "stream",
     "text": [
      "('Avg auc score: 0.858577560978', \"Best params: {'n_estimators': 50, 'max_depth': 10, 'class_weight': 'balanced'}\")\n",
      "Auc score on Train       set: 0.827\n",
      "Auc score on Validation  set: 0.777\n",
      "FP rate: 18.1%\n",
      "TP rate: 73.4%\n"
     ]
    }
   ],
   "source": [
    "rf_parameters = {'max_depth':range(5,12), 'n_estimators': [50], 'class_weight':['balanced']}\n",
    "rf_clf = run_classifier((rf_parameters), RandomForestClassifier(random_state=0), dtrain)"
   ]
  },
  {
   "cell_type": "markdown",
   "metadata": {},
   "source": [
    "## Principal Component Analysis"
   ]
  },
  {
   "cell_type": "code",
   "execution_count": 101,
   "metadata": {
    "scrolled": false
   },
   "outputs": [
    {
     "data": {
      "text/plain": [
       "<matplotlib.text.Text at 0x1d7d8320>"
      ]
     },
     "execution_count": 101,
     "metadata": {},
     "output_type": "execute_result"
    },
    {
     "data": {
      "image/png": "[encoded data removed]",
      "text/plain": [
       "<matplotlib.figure.Figure at 0x15f52e80>"
      ]
     },
     "metadata": {},
     "output_type": "display_data"
    }
   ],
   "source": [
    "dtrain_numeric = dtrain.iloc[:, :-1].filter(regex=('(number_of|avg_).*|.*(funding_total_usd|funding_rounds|_at)'))\n",
    "pca = PCA(n_components=30)\n",
    "\n",
    "pca.fit(dtrain_numeric)\n",
    "\n",
    "fig, ax = plt.subplots()\n",
    "plt.plot(pca.explained_variance_ratio_, marker='o', color='b', linestyle='dashed')\n",
    "ax.annotate('6 dimensions', xy=(6.2, pca.explained_variance_ratio_[6]+0.001), xytext=(8, 0.04),arrowprops=dict(facecolor='black', shrink=0.01),)\n",
    "plt.title('Total variance explained')\n",
    "plt.xlabel('Number of dimensions')\n",
    "plt.ylabel('Variance explained by dimension')"
   ]
  },
  {
   "cell_type": "markdown",
   "metadata": {},
   "source": [
    "We can notice that after the 6th dimension, the total variance explained by starts to get very low."
   ]
  },
  {
   "cell_type": "code",
   "execution_count": 97,
   "metadata": {
    "scrolled": false
   },
   "outputs": [
    {
     "data": {
      "text/html": [
       "<div>\n",
       "<style>\n",
       "    .dataframe thead tr:only-child th {\n",
       "        text-align: right;\n",
       "    }\n",
       "\n",
       "    .dataframe thead th {\n",
       "        text-align: left;\n",
       "    }\n",
       "\n",
       "    .dataframe tbody tr th {\n",
       "        vertical-align: top;\n",
       "    }\n",
       "</style>\n",
       "<table border=\"1\" class=\"dataframe\">\n",
       "  <thead>\n",
       "    <tr style=\"text-align: right;\">\n",
       "      <th></th>\n",
       "      <th>Explained Variance</th>\n",
       "      <th>funding_total_usd</th>\n",
       "      <th>funding_rounds</th>\n",
       "      <th>founded_at</th>\n",
       "      <th>first_funding_at</th>\n",
       "      <th>last_funding_at</th>\n",
       "      <th>angel_funding_total_usd</th>\n",
       "      <th>angel_funding_rounds</th>\n",
       "      <th>convertible_note_funding_total_usd</th>\n",
       "      <th>convertible_note_funding_rounds</th>\n",
       "      <th>...</th>\n",
       "      <th>seed_funding_rounds</th>\n",
       "      <th>undisclosed_funding_total_usd</th>\n",
       "      <th>undisclosed_funding_rounds</th>\n",
       "      <th>venture_funding_total_usd</th>\n",
       "      <th>venture_funding_rounds</th>\n",
       "      <th>number_of_acquisitions</th>\n",
       "      <th>number_of_investments</th>\n",
       "      <th>number_of_unique_investments</th>\n",
       "      <th>number_of_investors_per_round</th>\n",
       "      <th>avg_amount_invested_per_round</th>\n",
       "    </tr>\n",
       "  </thead>\n",
       "  <tbody>\n",
       "    <tr>\n",
       "      <th>Dimension 1</th>\n",
       "      <td>0.3086</td>\n",
       "      <td>0.0057</td>\n",
       "      <td>0.6335</td>\n",
       "      <td>0.0219</td>\n",
       "      <td>0.0100</td>\n",
       "      <td>-0.0785</td>\n",
       "      <td>0.0027</td>\n",
       "      <td>0.0048</td>\n",
       "      <td>0.0018</td>\n",
       "      <td>0.0124</td>\n",
       "      <td>...</td>\n",
       "      <td>-0.0182</td>\n",
       "      <td>0.0000</td>\n",
       "      <td>0.0040</td>\n",
       "      <td>0.0081</td>\n",
       "      <td>0.7098</td>\n",
       "      <td>0.0035</td>\n",
       "      <td>0.0002</td>\n",
       "      <td>0.0002</td>\n",
       "      <td>0.2492</td>\n",
       "      <td>0.0018</td>\n",
       "    </tr>\n",
       "    <tr>\n",
       "      <th>Dimension 2</th>\n",
       "      <td>0.1926</td>\n",
       "      <td>-0.0010</td>\n",
       "      <td>0.1700</td>\n",
       "      <td>-0.0511</td>\n",
       "      <td>-0.0169</td>\n",
       "      <td>-0.4192</td>\n",
       "      <td>0.0021</td>\n",
       "      <td>0.0325</td>\n",
       "      <td>0.0005</td>\n",
       "      <td>0.0177</td>\n",
       "      <td>...</td>\n",
       "      <td>0.8514</td>\n",
       "      <td>-0.0001</td>\n",
       "      <td>0.0023</td>\n",
       "      <td>-0.0019</td>\n",
       "      <td>-0.2211</td>\n",
       "      <td>-0.0016</td>\n",
       "      <td>-0.0001</td>\n",
       "      <td>-0.0001</td>\n",
       "      <td>0.1250</td>\n",
       "      <td>-0.0011</td>\n",
       "    </tr>\n",
       "    <tr>\n",
       "      <th>Dimension 3</th>\n",
       "      <td>0.1344</td>\n",
       "      <td>0.0000</td>\n",
       "      <td>-0.0982</td>\n",
       "      <td>0.0242</td>\n",
       "      <td>0.0264</td>\n",
       "      <td>0.6598</td>\n",
       "      <td>-0.0003</td>\n",
       "      <td>-0.0008</td>\n",
       "      <td>-0.0010</td>\n",
       "      <td>-0.0230</td>\n",
       "      <td>...</td>\n",
       "      <td>0.2412</td>\n",
       "      <td>0.0001</td>\n",
       "      <td>0.0048</td>\n",
       "      <td>0.0009</td>\n",
       "      <td>-0.0465</td>\n",
       "      <td>0.0013</td>\n",
       "      <td>0.0007</td>\n",
       "      <td>0.0007</td>\n",
       "      <td>0.5123</td>\n",
       "      <td>0.0014</td>\n",
       "    </tr>\n",
       "    <tr>\n",
       "      <th>Dimension 4</th>\n",
       "      <td>0.0944</td>\n",
       "      <td>0.0006</td>\n",
       "      <td>-0.0037</td>\n",
       "      <td>-0.0052</td>\n",
       "      <td>0.0095</td>\n",
       "      <td>0.2188</td>\n",
       "      <td>-0.0027</td>\n",
       "      <td>-0.0158</td>\n",
       "      <td>-0.0006</td>\n",
       "      <td>-0.0172</td>\n",
       "      <td>...</td>\n",
       "      <td>0.0738</td>\n",
       "      <td>0.0000</td>\n",
       "      <td>-0.0018</td>\n",
       "      <td>0.0017</td>\n",
       "      <td>-0.0065</td>\n",
       "      <td>0.0007</td>\n",
       "      <td>0.0008</td>\n",
       "      <td>0.0007</td>\n",
       "      <td>0.4422</td>\n",
       "      <td>0.0011</td>\n",
       "    </tr>\n",
       "    <tr>\n",
       "      <th>Dimension 5</th>\n",
       "      <td>0.0808</td>\n",
       "      <td>0.0001</td>\n",
       "      <td>-0.2442</td>\n",
       "      <td>-0.0470</td>\n",
       "      <td>-0.0254</td>\n",
       "      <td>-0.5645</td>\n",
       "      <td>-0.0013</td>\n",
       "      <td>-0.0182</td>\n",
       "      <td>0.0003</td>\n",
       "      <td>0.0105</td>\n",
       "      <td>...</td>\n",
       "      <td>-0.3600</td>\n",
       "      <td>0.0001</td>\n",
       "      <td>-0.0097</td>\n",
       "      <td>0.0004</td>\n",
       "      <td>-0.0895</td>\n",
       "      <td>-0.0010</td>\n",
       "      <td>0.0024</td>\n",
       "      <td>0.0023</td>\n",
       "      <td>0.6642</td>\n",
       "      <td>0.0016</td>\n",
       "    </tr>\n",
       "    <tr>\n",
       "      <th>Dimension 6</th>\n",
       "      <td>0.0473</td>\n",
       "      <td>0.0022</td>\n",
       "      <td>0.3201</td>\n",
       "      <td>0.0324</td>\n",
       "      <td>0.0064</td>\n",
       "      <td>0.0911</td>\n",
       "      <td>0.0293</td>\n",
       "      <td>0.1689</td>\n",
       "      <td>0.0029</td>\n",
       "      <td>0.0531</td>\n",
       "      <td>...</td>\n",
       "      <td>-0.1645</td>\n",
       "      <td>0.0008</td>\n",
       "      <td>0.0745</td>\n",
       "      <td>-0.0026</td>\n",
       "      <td>-0.4793</td>\n",
       "      <td>0.0005</td>\n",
       "      <td>0.0003</td>\n",
       "      <td>0.0003</td>\n",
       "      <td>0.1483</td>\n",
       "      <td>0.0010</td>\n",
       "    </tr>\n",
       "  </tbody>\n",
       "</table>\n",
       "<p>6 rows × 39 columns</p>\n",
       "</div>"
      ],
      "text/plain": [
       "             Explained Variance  funding_total_usd  funding_rounds  \\\n",
       "Dimension 1              0.3086             0.0057          0.6335   \n",
       "Dimension 2              0.1926            -0.0010          0.1700   \n",
       "Dimension 3              0.1344             0.0000         -0.0982   \n",
       "Dimension 4              0.0944             0.0006         -0.0037   \n",
       "Dimension 5              0.0808             0.0001         -0.2442   \n",
       "Dimension 6              0.0473             0.0022          0.3201   \n",
       "\n",
       "             founded_at  first_funding_at  last_funding_at  \\\n",
       "Dimension 1      0.0219            0.0100          -0.0785   \n",
       "Dimension 2     -0.0511           -0.0169          -0.4192   \n",
       "Dimension 3      0.0242            0.0264           0.6598   \n",
       "Dimension 4     -0.0052            0.0095           0.2188   \n",
       "Dimension 5     -0.0470           -0.0254          -0.5645   \n",
       "Dimension 6      0.0324            0.0064           0.0911   \n",
       "\n",
       "             angel_funding_total_usd  angel_funding_rounds  \\\n",
       "Dimension 1                   0.0027                0.0048   \n",
       "Dimension 2                   0.0021                0.0325   \n",
       "Dimension 3                  -0.0003               -0.0008   \n",
       "Dimension 4                  -0.0027               -0.0158   \n",
       "Dimension 5                  -0.0013               -0.0182   \n",
       "Dimension 6                   0.0293                0.1689   \n",
       "\n",
       "             convertible_note_funding_total_usd  \\\n",
       "Dimension 1                              0.0018   \n",
       "Dimension 2                              0.0005   \n",
       "Dimension 3                             -0.0010   \n",
       "Dimension 4                             -0.0006   \n",
       "Dimension 5                              0.0003   \n",
       "Dimension 6                              0.0029   \n",
       "\n",
       "             convertible_note_funding_rounds              ...                \\\n",
       "Dimension 1                           0.0124              ...                 \n",
       "Dimension 2                           0.0177              ...                 \n",
       "Dimension 3                          -0.0230              ...                 \n",
       "Dimension 4                          -0.0172              ...                 \n",
       "Dimension 5                           0.0105              ...                 \n",
       "Dimension 6                           0.0531              ...                 \n",
       "\n",
       "             seed_funding_rounds  undisclosed_funding_total_usd  \\\n",
       "Dimension 1              -0.0182                         0.0000   \n",
       "Dimension 2               0.8514                        -0.0001   \n",
       "Dimension 3               0.2412                         0.0001   \n",
       "Dimension 4               0.0738                         0.0000   \n",
       "Dimension 5              -0.3600                         0.0001   \n",
       "Dimension 6              -0.1645                         0.0008   \n",
       "\n",
       "             undisclosed_funding_rounds  venture_funding_total_usd  \\\n",
       "Dimension 1                      0.0040                     0.0081   \n",
       "Dimension 2                      0.0023                    -0.0019   \n",
       "Dimension 3                      0.0048                     0.0009   \n",
       "Dimension 4                     -0.0018                     0.0017   \n",
       "Dimension 5                     -0.0097                     0.0004   \n",
       "Dimension 6                      0.0745                    -0.0026   \n",
       "\n",
       "             venture_funding_rounds  number_of_acquisitions  \\\n",
       "Dimension 1                  0.7098                  0.0035   \n",
       "Dimension 2                 -0.2211                 -0.0016   \n",
       "Dimension 3                 -0.0465                  0.0013   \n",
       "Dimension 4                 -0.0065                  0.0007   \n",
       "Dimension 5                 -0.0895                 -0.0010   \n",
       "Dimension 6                 -0.4793                  0.0005   \n",
       "\n",
       "             number_of_investments  number_of_unique_investments  \\\n",
       "Dimension 1                 0.0002                        0.0002   \n",
       "Dimension 2                -0.0001                       -0.0001   \n",
       "Dimension 3                 0.0007                        0.0007   \n",
       "Dimension 4                 0.0008                        0.0007   \n",
       "Dimension 5                 0.0024                        0.0023   \n",
       "Dimension 6                 0.0003                        0.0003   \n",
       "\n",
       "             number_of_investors_per_round  avg_amount_invested_per_round  \n",
       "Dimension 1                         0.2492                         0.0018  \n",
       "Dimension 2                         0.1250                        -0.0011  \n",
       "Dimension 3                         0.5123                         0.0014  \n",
       "Dimension 4                         0.4422                         0.0011  \n",
       "Dimension 5                         0.6642                         0.0016  \n",
       "Dimension 6                         0.1483                         0.0010  \n",
       "\n",
       "[6 rows x 39 columns]"
      ]
     },
     "execution_count": 97,
     "metadata": {},
     "output_type": "execute_result"
    },
    {
     "data": {
      "image/png": "[encoded data removed]",
      "text/plain": [
       "<matplotlib.figure.Figure at 0x202daf28>"
      ]
     },
     "metadata": {},
     "output_type": "display_data"
    }
   ],
   "source": [
    "import sys\n",
    "sys.path.insert(0, './exploratory_code')\n",
    "import visuals as vs\n",
    "\n",
    "\n",
    "pca = PCA(n_components=6)\n",
    "pca.fit(dtrain_numeric)\n",
    "\n",
    "# Generate PCA results plot\n",
    "vs.pca_results(dtrain_numeric, pca)"
   ]
  },
  {
   "cell_type": "markdown",
   "metadata": {},
   "source": [
    "With PCA, we can visualize the explained variance ratio of each dimension generated. From the chart above, we see, for example, a PCA transformation using only the numerical variables of our dataset. We see that the first dimension explains around 30% of the variance of the data. Most part of this percentage is explained by funding_rounds and venture_funding_rounds variables. For the second dimension, which explains 19% of the variance in the data, the most expressing features are last_funding_at and seed_fundind_rounds."
   ]
  },
  {
   "cell_type": "markdown",
   "metadata": {},
   "source": [
    "## Principal Component Analysis + Support Vector Machine"
   ]
  },
  {
   "cell_type": "code",
   "execution_count": 9,
   "metadata": {
    "collapsed": true
   },
   "outputs": [],
   "source": [
    "pca = PCA(n_components=6)\n",
    "pca.fit(dtrain.iloc[:, :-1])\n",
    "dtrain_pca =  pca.transform(dtrain.iloc[:, :-1])\n",
    "dtrain_pca = pd.DataFrame(dtrain_pca)\n",
    "dtrain_pca['acquired'] = list(dtrain['acquired'])"
   ]
  },
  {
   "cell_type": "code",
   "execution_count": 10,
   "metadata": {},
   "outputs": [
    {
     "name": "stdout",
     "output_type": "stream",
     "text": [
      "('Avg auc score: 0.612707153638', \"Best params: {'kernel': 'rbf', 'C': 100, 'gamma': 0.001, 'class_weight': 'balanced'}\")\n",
      "Auc score on Train       set: 0.576\n",
      "Auc score on Validation  set: 0.567\n",
      "FP rate: 39.1%\n",
      "TP rate: 52.6%\n"
     ]
    }
   ],
   "source": [
    "svm_parameters = [\n",
    "  #{'C': [1, 10, 100], 'kernel': ['linear'], 'class_weight':['balanced']},\n",
    "  {'C': [1, 10, 100], 'gamma': [0.001, 0.0001], 'kernel': ['rbf'], 'class_weight':['balanced']},\n",
    "  #{'C': [1, 10, 100, 1000], 'kernel': ['poly'], 'degree': [2, 5], 'coef0':[0,1], 'class_weight':['balanced']},\n",
    " ]\n",
    "svm_clf = run_classifier(svm_parameters, SVC(random_state=0), dtrain_pca)"
   ]
  },
  {
   "cell_type": "markdown",
   "metadata": {},
   "source": [
    "## Only SVM"
   ]
  },
  {
   "cell_type": "code",
   "execution_count": 11,
   "metadata": {},
   "outputs": [
    {
     "name": "stdout",
     "output_type": "stream",
     "text": [
      "('Avg auc score: 0.830874595566', \"Best params: {'kernel': 'rbf', 'C': 100, 'gamma': 0.001, 'class_weight': 'balanced'}\")\n",
      "Auc score on Train       set: 0.763\n",
      "Auc score on Validation  set: 0.766\n",
      "FP rate: 23.1%\n",
      "TP rate: 76.4%\n"
     ]
    }
   ],
   "source": [
    "svm_parameters = [\n",
    "  #{'C': [1, 10, 100], 'kernel': ['linear'], 'class_weight':['balanced']},\n",
    "  {'C': [100], 'gamma': [0.001], 'kernel': ['rbf'], 'class_weight':['balanced']},\n",
    "  #{'C': [1, 10, 100, 1000], 'kernel': ['poly'], 'degree': [2, 5], 'coef0':[0,1], 'class_weight':['balanced']},\n",
    " ]\n",
    "svm_clf = run_classifier(svm_parameters, SVC(random_state=0), dtrain)"
   ]
  },
  {
   "cell_type": "markdown",
   "metadata": {},
   "source": [
    "## k-Nearest Neighbors"
   ]
  },
  {
   "cell_type": "code",
   "execution_count": 12,
   "metadata": {
    "scrolled": true
   },
   "outputs": [
    {
     "name": "stdout",
     "output_type": "stream",
     "text": [
      "('Avg auc score: 0.691067808096', \"Best params: {'n_neighbors': 5, 'n_jobs': -1, 'weights': 'uniform'}\")\n",
      "Auc score on Train       set: 0.629\n",
      "Auc score on Validation  set: 0.548\n",
      "FP rate: 2.7%\n",
      "TP rate: 12.3%\n"
     ]
    }
   ],
   "source": [
    "knn_parameters = {'n_neighbors':[3, 5], 'n_jobs':[-1], 'weights':['distance', 'uniform']}\n",
    "knn_clf = run_classifier(knn_parameters, KNeighborsClassifier(), dtrain)"
   ]
  },
  {
   "cell_type": "markdown",
   "metadata": {},
   "source": [
    "## k-Nearest Neighbors (subsampled)"
   ]
  },
  {
   "cell_type": "code",
   "execution_count": 13,
   "metadata": {
    "collapsed": true
   },
   "outputs": [],
   "source": [
    "from imblearn.under_sampling import RandomUnderSampler\n",
    "rus = RandomUnderSampler(random_state=42, return_indices=True)\n",
    "X_undersampled, y_undersampled, indices = rus.fit_sample(dtrain.iloc[:, :-1], dtrain['acquired'])\n",
    "dtrain_subsampled = pd.DataFrame(X_undersampled)\n",
    "dtrain_subsampled['acquired'] = y_undersampled"
   ]
  },
  {
   "cell_type": "code",
   "execution_count": 14,
   "metadata": {},
   "outputs": [
    {
     "name": "stdout",
     "output_type": "stream",
     "text": [
      "('Avg auc score: 0.757172183278', \"Best params: {'n_neighbors': 10, 'n_jobs': -1, 'weights': 'distance'}\")\n",
      "Auc score on Train       set: 1.000\n",
      "Auc score on Validation  set: 0.701\n",
      "FP rate: 30.1%\n",
      "TP rate: 70.2%\n"
     ]
    }
   ],
   "source": [
    "knn_parameters = {'n_neighbors':[1, 10], 'n_jobs':[-1], 'weights':['distance', 'uniform']}\n",
    "knn_subsampled_clf = run_classifier(knn_parameters, KNeighborsClassifier(), dtrain_subsampled)"
   ]
  },
  {
   "cell_type": "markdown",
   "metadata": {},
   "source": [
    "## XGBoost"
   ]
  },
  {
   "cell_type": "code",
   "execution_count": 15,
   "metadata": {
    "collapsed": true
   },
   "outputs": [],
   "source": [
    "def model_xgboost_classifier(classifier, df, sample_weight={1:4,0:1}, useTrainCV=True, cv_folds=5, early_stopping_rounds=50):\n",
    "    seed = 42\n",
    "    np.random.seed(seed)\n",
    "    X = df.iloc[:, :-1]\n",
    "    y = df['acquired']\n",
    "    X_train, X_test, y_train, y_test = train_test_split(X, y, test_size=0.2, random_state=seed, stratify=y)\n",
    "    \n",
    "    if useTrainCV:\n",
    "        xgb_param = classifier.get_xgb_params()\n",
    "        xgtrain = xgb.DMatrix(X_train.values, label=y_train.values)\n",
    "        cvresult = xgb.cv(xgb_param, xgtrain, num_boost_round=classifier.get_params()['n_estimators'], nfold=cv_folds, \\\n",
    "                          metrics='auc', early_stopping_rounds=early_stopping_rounds)\n",
    "        classifier.set_params(n_estimators=cvresult.shape[0])\n",
    "        print cvresult\n",
    "    \n",
    "    classifier.fit(X_train, y_train, eval_metric='auc', sample_weight=y_train.replace(sample_weight))\n",
    "    \n",
    "    print 'Auc score on Train       set: {0:0.3f}'.format(roc_auc_score(y_train, classifier.predict(X_train)))\n",
    "    print 'Auc score on Validation  set: {0:0.3f}'.format(roc_auc_score(y_test, classifier.predict(X_test)))\n",
    "    cm = pd.crosstab(y_test, classifier.predict(X_test), rownames=['True'], colnames=['Predicted'], margins=True)\n",
    "    print cm \n",
    "    print 'TP rate: {0:0.1f}%'.format(cm[1][0]/float(cm['All'][0])*100)\n",
    "    print 'FP rate: {0:0.1f}%'.format(cm[1][1]/float(cm['All'][1])*100)\n",
    "    \n",
    "    return classifier"
   ]
  },
  {
   "cell_type": "code",
   "execution_count": 16,
   "metadata": {
    "scrolled": true
   },
   "outputs": [
    {
     "name": "stdout",
     "output_type": "stream",
     "text": [
      "Auc score on Train       set: 0.779\n",
      "Auc score on Validation  set: 0.768\n",
      "Predicted     0     1   All\n",
      "True                       \n",
      "0          4442   732  5174\n",
      "1           214   451   665\n",
      "All        4656  1183  5839\n",
      "TP rate: 14.1%\n",
      "FP rate: 67.8%\n"
     ]
    }
   ],
   "source": [
    "from xgboost import XGBClassifier\n",
    "\n",
    "xgb1 = XGBClassifier(\n",
    " learning_rate =0.1,\n",
    " n_estimators=10,\n",
    " max_depth=5,\n",
    " min_child_weight=1,\n",
    " gamma=0,\n",
    " subsample=0.9,\n",
    " colsample_bytree=0.9,\n",
    " objective= 'binary:logistic',\n",
    " n_jobs=4,\n",
    " scale_pos_weight=1,\n",
    " random_state=0)\n",
    "\n",
    "xgb_clf = model_xgboost_classifier(xgb1, dtrain, useTrainCV=False, cv_folds=5, early_stopping_rounds=1000)"
   ]
  },
  {
   "cell_type": "markdown",
   "metadata": {},
   "source": [
    "## Final test within unseen data"
   ]
  },
  {
   "cell_type": "code",
   "execution_count": 17,
   "metadata": {
    "scrolled": true
   },
   "outputs": [
    {
     "name": "stdout",
     "output_type": "stream",
     "text": [
      "--------------rf_clf---------------\n",
      "Auc score on Test set: 0.773\n",
      "FP rate: 18.8%\n",
      "TP rate: 73.4%\n",
      "--------------svm_clf---------------\n",
      "Auc score on Test set: 0.757\n",
      "FP rate: 23.5%\n",
      "TP rate: 74.8%\n",
      "--------------knn_clf---------------\n",
      "Auc score on Test set: 0.564\n",
      "FP rate: 2.9%\n",
      "TP rate: 15.6%\n",
      "--------------knn_subsampled_clf---------------\n",
      "Auc score on Test set: 0.665\n",
      "FP rate: 32.8%\n",
      "TP rate: 65.8%\n",
      "--------------xgb_clf---------------\n",
      "Auc score on Test set: 0.761\n",
      "FP rate: 15.1%\n",
      "TP rate: 67.4%\n"
     ]
    }
   ],
   "source": [
    "def compare_models(models, df):\n",
    "    for var_model in models:\n",
    "        model = eval(var_model)\n",
    "        X = df.iloc[:, :-1]\n",
    "        y = df['acquired']\n",
    "        print '--------------'+var_model + '---------------'\n",
    "        print 'Auc score on Test set: {0:0.3f}'.format(roc_auc_score(y, model.predict(X)))\n",
    "        cm = pd.crosstab(y, model.predict(X), rownames=['True'], colnames=['Predicted'], margins=True)\n",
    "        #print cm \n",
    "        print 'FP rate: {0:0.1f}%'.format(cm[1][0]/float(cm['All'][0])*100)\n",
    "        print 'TP rate: {0:0.1f}%'.format(cm[1][1]/float(cm['All'][1])*100)\n",
    "        \n",
    "\n",
    "#compare_models(['rf_clf', 'svm_clf', 'knn_clf', 'knn_subsampled_clf'], dtest)\n",
    "compare_models(['rf_clf', 'svm_clf', 'knn_clf', 'knn_subsampled_clf', 'xgb_clf'], dtest)"
   ]
  },
  {
   "cell_type": "markdown",
   "metadata": {},
   "source": [
    "## Confusion Matrix visualization - Random Forest"
   ]
  },
  {
   "cell_type": "code",
   "execution_count": 109,
   "metadata": {
    "scrolled": true
   },
   "outputs": [
    {
     "data": {
      "image/png": "[encoded data removed]",
      "text/plain": [
       "<matplotlib.figure.Figure at 0x1c0cd1d0>"
      ]
     },
     "metadata": {},
     "output_type": "display_data"
    }
   ],
   "source": [
    "X = dtest.iloc[:, :-1]\n",
    "y = dtest['acquired']\n",
    "\n",
    "cm = confusion_matrix(y, rf_clf.predict(X))\n",
    "\n",
    "sns.heatmap(cm, annot=True, cmap='Blues', xticklabels=['no', 'yes'], yticklabels=['no', 'yes'], fmt='g')\n",
    "plt.ylabel('True label')\n",
    "plt.xlabel('Predicted label')\n",
    "plt.title('Confusion matrix for:\\n{}'.format(rf_clf.__class__.__name__));"
   ]
  },
  {
   "cell_type": "markdown",
   "metadata": {},
   "source": [
    "The chart above illustrates a concrete use case of our model and illustrastes as well the imbalance behavior in the test dataset. When classifying a dataset of 7299 companies, the model misclassified 1219 companies as they would be acquired but they were not. Similarly, it classified 610 companies as they would be acquired and they were, in fact, acquired. The results obtained in this project varied around this trade-off. Some models increased the accuracy of acquisitions suggestions, but at the same time, increased the missclassification of companies that should not be tagged positively. "
   ]
  }
 ],
 "metadata": {
  "kernelspec": {
   "display_name": "Python [default]",
   "language": "python",
   "name": "python2"
  },
  "language_info": {
   "codemirror_mode": {
    "name": "ipython",
    "version": 2
   },
   "file_extension": ".py",
   "mimetype": "text/x-python",
   "name": "python",
   "nbconvert_exporter": "python",
   "pygments_lexer": "ipython2",
   "version": "2.7.13"
  }
 },
 "nbformat": 4,
 "nbformat_minor": 2
}
