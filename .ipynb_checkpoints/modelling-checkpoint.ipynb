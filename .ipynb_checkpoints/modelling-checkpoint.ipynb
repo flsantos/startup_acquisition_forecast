{
 "cells": [
  {
   "cell_type": "markdown",
   "metadata": {},
   "source": [
    "# 1. Classification Modelling"
   ]
  },
  {
   "cell_type": "markdown",
   "metadata": {},
   "source": [
    "## Overview\n",
    "In this phase, we already have our dataset completely prepared and normalized, ready to be applied into classification algorithms. We'll first split our dataset and leave aside 20% of our data, to be tested only in the end of this process, after training a few different classification models. The one with best performance in this final test dataset will be our best model."
   ]
  },
  {
   "cell_type": "markdown",
   "metadata": {},
   "source": [
    "## Load pre-processed dataset"
   ]
  },
  {
   "cell_type": "code",
   "execution_count": 46,
   "metadata": {
    "collapsed": true
   },
   "outputs": [],
   "source": [
    "#All imports here\n",
    "import numpy as np\n",
    "import pandas as pd\n",
    "import matplotlib.pyplot as plt\n",
    "from IPython.display import display, HTML\n",
    "\n",
    "from sklearn.model_selection import train_test_split\n",
    "from sklearn.tree import DecisionTreeClassifier\n",
    "from sklearn.ensemble import RandomForestClassifier\n",
    "from sklearn.svm import SVC\n",
    "from sklearn.decomposition import PCA\n",
    "from sklearn.neighbors import KNeighborsClassifier\n",
    "\n",
    "from sklearn.model_selection import train_test_split\n",
    "from sklearn.metrics import roc_auc_score\n",
    "from sklearn.metrics import confusion_matrix\n",
    "from sklearn import grid_search\n",
    "\n",
    "%matplotlib inline"
   ]
  },
  {
   "cell_type": "code",
   "execution_count": 4,
   "metadata": {},
   "outputs": [
    {
     "data": {
      "text/html": [
       "<div>\n",
       "<style>\n",
       "    .dataframe thead tr:only-child th {\n",
       "        text-align: right;\n",
       "    }\n",
       "\n",
       "    .dataframe thead th {\n",
       "        text-align: left;\n",
       "    }\n",
       "\n",
       "    .dataframe tbody tr th {\n",
       "        vertical-align: top;\n",
       "    }\n",
       "</style>\n",
       "<table border=\"1\" class=\"dataframe\">\n",
       "  <thead>\n",
       "    <tr style=\"text-align: right;\">\n",
       "      <th></th>\n",
       "      <th>funding_total_usd</th>\n",
       "      <th>funding_rounds</th>\n",
       "      <th>founded_at</th>\n",
       "      <th>first_funding_at</th>\n",
       "      <th>last_funding_at</th>\n",
       "      <th>Category_Software</th>\n",
       "      <th>Category_Biotechnology</th>\n",
       "      <th>Category_Mobile</th>\n",
       "      <th>Category_Enterprise Software</th>\n",
       "      <th>Category_E-Commerce</th>\n",
       "      <th>...</th>\n",
       "      <th>State_IL</th>\n",
       "      <th>State_PA</th>\n",
       "      <th>State_CO</th>\n",
       "      <th>State_VA</th>\n",
       "      <th>State_NJ</th>\n",
       "      <th>State_GA</th>\n",
       "      <th>State_OH</th>\n",
       "      <th>State_NC</th>\n",
       "      <th>State_MD</th>\n",
       "      <th>status</th>\n",
       "    </tr>\n",
       "    <tr>\n",
       "      <th>permalink</th>\n",
       "      <th></th>\n",
       "      <th></th>\n",
       "      <th></th>\n",
       "      <th></th>\n",
       "      <th></th>\n",
       "      <th></th>\n",
       "      <th></th>\n",
       "      <th></th>\n",
       "      <th></th>\n",
       "      <th></th>\n",
       "      <th></th>\n",
       "      <th></th>\n",
       "      <th></th>\n",
       "      <th></th>\n",
       "      <th></th>\n",
       "      <th></th>\n",
       "      <th></th>\n",
       "      <th></th>\n",
       "      <th></th>\n",
       "      <th></th>\n",
       "      <th></th>\n",
       "    </tr>\n",
       "  </thead>\n",
       "  <tbody>\n",
       "    <tr>\n",
       "      <th>/organization/-qounter</th>\n",
       "      <td>0.000023</td>\n",
       "      <td>0.055556</td>\n",
       "      <td>0.005917</td>\n",
       "      <td>0.002825</td>\n",
       "      <td>0.027344</td>\n",
       "      <td>0</td>\n",
       "      <td>0</td>\n",
       "      <td>0</td>\n",
       "      <td>0</td>\n",
       "      <td>0</td>\n",
       "      <td>...</td>\n",
       "      <td>0</td>\n",
       "      <td>0</td>\n",
       "      <td>0</td>\n",
       "      <td>0</td>\n",
       "      <td>0</td>\n",
       "      <td>0</td>\n",
       "      <td>0</td>\n",
       "      <td>0</td>\n",
       "      <td>0</td>\n",
       "      <td>operating</td>\n",
       "    </tr>\n",
       "    <tr>\n",
       "      <th>/organization/004-technologies</th>\n",
       "      <td>0.000000</td>\n",
       "      <td>0.000000</td>\n",
       "      <td>0.018409</td>\n",
       "      <td>0.002410</td>\n",
       "      <td>0.033203</td>\n",
       "      <td>1</td>\n",
       "      <td>0</td>\n",
       "      <td>0</td>\n",
       "      <td>0</td>\n",
       "      <td>0</td>\n",
       "      <td>...</td>\n",
       "      <td>1</td>\n",
       "      <td>0</td>\n",
       "      <td>0</td>\n",
       "      <td>0</td>\n",
       "      <td>0</td>\n",
       "      <td>0</td>\n",
       "      <td>0</td>\n",
       "      <td>0</td>\n",
       "      <td>0</td>\n",
       "      <td>operating</td>\n",
       "    </tr>\n",
       "    <tr>\n",
       "      <th>/organization/0xdata</th>\n",
       "      <td>0.001117</td>\n",
       "      <td>0.166667</td>\n",
       "      <td>0.015779</td>\n",
       "      <td>0.003906</td>\n",
       "      <td>0.001953</td>\n",
       "      <td>0</td>\n",
       "      <td>0</td>\n",
       "      <td>0</td>\n",
       "      <td>0</td>\n",
       "      <td>0</td>\n",
       "      <td>...</td>\n",
       "      <td>0</td>\n",
       "      <td>0</td>\n",
       "      <td>0</td>\n",
       "      <td>0</td>\n",
       "      <td>0</td>\n",
       "      <td>0</td>\n",
       "      <td>0</td>\n",
       "      <td>0</td>\n",
       "      <td>0</td>\n",
       "      <td>operating</td>\n",
       "    </tr>\n",
       "  </tbody>\n",
       "</table>\n",
       "<p>3 rows × 104 columns</p>\n",
       "</div>"
      ],
      "text/plain": [
       "                                funding_total_usd  funding_rounds  founded_at  \\\n",
       "permalink                                                                       \n",
       "/organization/-qounter                   0.000023        0.055556    0.005917   \n",
       "/organization/004-technologies           0.000000        0.000000    0.018409   \n",
       "/organization/0xdata                     0.001117        0.166667    0.015779   \n",
       "\n",
       "                                first_funding_at  last_funding_at  \\\n",
       "permalink                                                           \n",
       "/organization/-qounter                  0.002825         0.027344   \n",
       "/organization/004-technologies          0.002410         0.033203   \n",
       "/organization/0xdata                    0.003906         0.001953   \n",
       "\n",
       "                                Category_Software  Category_Biotechnology  \\\n",
       "permalink                                                                   \n",
       "/organization/-qounter                          0                       0   \n",
       "/organization/004-technologies                  1                       0   \n",
       "/organization/0xdata                            0                       0   \n",
       "\n",
       "                                Category_Mobile  Category_Enterprise Software  \\\n",
       "permalink                                                                       \n",
       "/organization/-qounter                        0                             0   \n",
       "/organization/004-technologies                0                             0   \n",
       "/organization/0xdata                          0                             0   \n",
       "\n",
       "                                Category_E-Commerce    ...      State_IL  \\\n",
       "permalink                                              ...                 \n",
       "/organization/-qounter                            0    ...             0   \n",
       "/organization/004-technologies                    0    ...             1   \n",
       "/organization/0xdata                              0    ...             0   \n",
       "\n",
       "                                State_PA  State_CO  State_VA  State_NJ  \\\n",
       "permalink                                                                \n",
       "/organization/-qounter                 0         0         0         0   \n",
       "/organization/004-technologies         0         0         0         0   \n",
       "/organization/0xdata                   0         0         0         0   \n",
       "\n",
       "                                State_GA  State_OH  State_NC  State_MD  \\\n",
       "permalink                                                                \n",
       "/organization/-qounter                 0         0         0         0   \n",
       "/organization/004-technologies         0         0         0         0   \n",
       "/organization/0xdata                   0         0         0         0   \n",
       "\n",
       "                                   status  \n",
       "permalink                                  \n",
       "/organization/-qounter          operating  \n",
       "/organization/004-technologies  operating  \n",
       "/organization/0xdata            operating  \n",
       "\n",
       "[3 rows x 104 columns]"
      ]
     },
     "execution_count": 4,
     "metadata": {},
     "output_type": "execute_result"
    }
   ],
   "source": [
    "startups = pd.read_csv('data/startups_pre_processed.csv', index_col=0)\n",
    "startups[:3]"
   ]
  },
  {
   "cell_type": "markdown",
   "metadata": {},
   "source": [
    "## Define acquired status as our target variable\n",
    "\n",
    "We are trying to forecast which startups are more likely to be acquired, so we are defining 'acquired' startups as 1 and the rest as 0. \n",
    "\n",
    "Also, in this phase, it was decided to remove from the dataset startups with status IPO, since they can be considered as successfull startups but that's not the point of this project."
   ]
  },
  {
   "cell_type": "code",
   "execution_count": 5,
   "metadata": {
    "collapsed": true
   },
   "outputs": [],
   "source": [
    "startups = startups[startups['status'] != 'ipo']"
   ]
  },
  {
   "cell_type": "code",
   "execution_count": 6,
   "metadata": {
    "collapsed": true
   },
   "outputs": [],
   "source": [
    "startups['acquired'] = startups['status'].replace({'acquired':1, 'operating':0, 'closed':0})\n",
    "startups = startups.drop('status', 1)"
   ]
  },
  {
   "cell_type": "code",
   "execution_count": 7,
   "metadata": {},
   "outputs": [
    {
     "data": {
      "image/png": "[encoded data removed]",
      "text/plain": [
       "<matplotlib.figure.Figure at 0x10e522b0>"
      ]
     },
     "metadata": {},
     "output_type": "display_data"
    }
   ],
   "source": [
    "ax = startups['acquired'].replace({0:'not acquired', 1:'acquired'}).value_counts().plot(kind='bar', title=\"Acquired startups\", rot=0)"
   ]
  },
  {
   "cell_type": "markdown",
   "metadata": {},
   "source": [
    "## Train/Test Split\n",
    "We'll now split the dataset, leaving the test dataset as it is in a real world observation ( imbalanced )."
   ]
  },
  {
   "cell_type": "code",
   "execution_count": 8,
   "metadata": {
    "collapsed": true
   },
   "outputs": [],
   "source": [
    "dtrain, dtest = train_test_split(startups, test_size = 0.2, random_state=42, stratify=startups['acquired'])"
   ]
  },
  {
   "cell_type": "markdown",
   "metadata": {},
   "source": [
    "## General model evualator\n",
    "Let's define a helper function to train and evaluate models using GridSearchCV"
   ]
  },
  {
   "cell_type": "code",
   "execution_count": 225,
   "metadata": {
    "collapsed": true
   },
   "outputs": [],
   "source": [
    "def run_classifier(parameters, classifier, df):\n",
    "    seed = 42\n",
    "    np.random.seed(seed)\n",
    "    X = df.iloc[:, :-1]\n",
    "    y = df['acquired']\n",
    "    X_train, X_test, y_train, y_test = train_test_split(X, y, test_size=0.2, random_state=seed, stratify=y)\n",
    "    clf = grid_search.GridSearchCV(classifier, parameters, n_jobs=-1, scoring='roc_auc', cv=5)\n",
    "    clf.fit(X=X_train, y=y_train)\n",
    "    model = clf.best_estimator_\n",
    "    print ('Avg auc score: '+str(clf.best_score_), 'Best params: '+str(clf.best_params_))\n",
    "    print 'Auc score on Train       set: {0:0.3f}'.format(roc_auc_score(y_train, model.predict(X_train)))\n",
    "    print 'Auc score on Validation  set: {0:0.3f}'.format(roc_auc_score(y_test, model.predict(X_test)))\n",
    "    cm = pd.crosstab(y_test, model.predict(X_test), rownames=['True'], colnames=['Predicted'], margins=True)\n",
    "    print 'FP rate: {0:0.1f}%'.format(cm[1][0]/float(cm['All'][0])*100)\n",
    "    print 'TP rate: {0:0.1f}%'.format(cm[1][1]/float(cm['All'][1])*100)\n",
    "    \n",
    "    return model"
   ]
  },
  {
   "cell_type": "markdown",
   "metadata": {},
   "source": [
    "## Random Forest"
   ]
  },
  {
   "cell_type": "code",
   "execution_count": 10,
   "metadata": {},
   "outputs": [
    {
     "name": "stdout",
     "output_type": "stream",
     "text": [
      "('Avg auc score: 0.856125962921', \"Best params: {'n_estimators': 50, 'max_depth': 11, 'class_weight': 'balanced'}\")\n",
      "Auc score on Train       set: 0.838\n",
      "Auc score on Validation  set: 0.776\n",
      "TP rate: 17.2%\n",
      "FP rate: 72.5%\n"
     ]
    }
   ],
   "source": [
    "rf_parameters = {'max_depth':range(5,12), 'n_estimators': [50], 'class_weight':['balanced']}\n",
    "rf_clf = run_classifier((rf_parameters), RandomForestClassifier(random_state=0), dtrain)"
   ]
  },
  {
   "cell_type": "markdown",
   "metadata": {},
   "source": [
    "## Principal Component Analysis + Support Vector Machine"
   ]
  },
  {
   "cell_type": "code",
   "execution_count": 37,
   "metadata": {
    "collapsed": true
   },
   "outputs": [],
   "source": [
    "pca = PCA(n_components=6)\n",
    "pca.fit(dtrain.iloc[:, :-1])\n",
    "dtrain_pca =  pca.transform(dtrain.iloc[:, :-1])\n",
    "dtrain_pca = pd.DataFrame(dtrain_pca)\n",
    "dtrain_pca['acquired'] = list(dtrain['acquired'])"
   ]
  },
  {
   "cell_type": "code",
   "execution_count": 45,
   "metadata": {},
   "outputs": [
    {
     "name": "stdout",
     "output_type": "stream",
     "text": [
      "('Avg auc score: 0.663853058276', \"Best params: {'kernel': 'poly', 'C': 1000, 'coef0': 1, 'degree': 5, 'class_weight': 'balanced'}\")\n",
      "Auc score on Train       set: 0.632\n",
      "Auc score on Validation  set: 0.612\n",
      "TP rate: 35.4%\n",
      "FP rate: 57.9%\n"
     ]
    }
   ],
   "source": [
    "svm_parameters = [\n",
    "  #{'C': [1, 10, 100], 'kernel': ['linear'], 'class_weight':['balanced']},\n",
    "  #{'C': [1, 10, 100], 'gamma': [0.001, 0.0001], 'kernel': ['rbf'], 'class_weight':['balanced']},\n",
    "  #{'C': [1, 10, 100, 1000], 'kernel': ['poly'], 'degree': [2, 5], 'coef0':[0,1], 'class_weight':['balanced']},\n",
    " ]\n",
    "svm_clf = run_classifier(svm_parameters, SVC(random_state=0), dtrain_pca)"
   ]
  },
  {
   "cell_type": "markdown",
   "metadata": {},
   "source": [
    "## Only SVM"
   ]
  },
  {
   "cell_type": "code",
   "execution_count": 48,
   "metadata": {},
   "outputs": [
    {
     "name": "stdout",
     "output_type": "stream",
     "text": [
      "('Avg auc score: 0.827886474667', \"Best params: {'kernel': 'rbf', 'C': 100, 'gamma': 0.001, 'class_weight': 'balanced'}\")\n",
      "Auc score on Train       set: 0.763\n",
      "Auc score on Validation  set: 0.766\n",
      "TP rate: 23.1%\n",
      "FP rate: 76.4%\n"
     ]
    }
   ],
   "source": [
    "svm_parameters = [\n",
    "  #{'C': [1, 10, 100], 'kernel': ['linear'], 'class_weight':['balanced']},\n",
    "  {'C': [100], 'gamma': [0.001], 'kernel': ['rbf'], 'class_weight':['balanced']},\n",
    "  #{'C': [1, 10, 100, 1000], 'kernel': ['poly'], 'degree': [2, 5], 'coef0':[0,1], 'class_weight':['balanced']},\n",
    " ]\n",
    "svm_clf = run_classifier(svm_parameters, SVC(random_state=0), dtrain)"
   ]
  },
  {
   "cell_type": "markdown",
   "metadata": {},
   "source": [
    "## k-Nearest Neighbors"
   ]
  },
  {
   "cell_type": "code",
   "execution_count": 223,
   "metadata": {
    "scrolled": true
   },
   "outputs": [
    {
     "name": "stdout",
     "output_type": "stream",
     "text": [
      "('Avg auc score: 0.691067808096', \"Best params: {'n_neighbors': 5, 'n_jobs': -1, 'weights': 'uniform'}\")\n",
      "Auc score on Train       set: 0.629\n",
      "Auc score on Validation  set: 0.548\n",
      "TP rate: 2.7%\n",
      "FP rate: 12.3%\n"
     ]
    }
   ],
   "source": [
    "knn_parameters = {'n_neighbors':[3, 5], 'n_jobs':[-1], 'weights':['distance', 'uniform']}\n",
    "knn_clf = run_classifier(knn_parameters, KNeighborsClassifier(), dtrain)"
   ]
  },
  {
   "cell_type": "markdown",
   "metadata": {},
   "source": [
    "## k-Nearest Neighbors (subsampled)"
   ]
  },
  {
   "cell_type": "code",
   "execution_count": 220,
   "metadata": {
    "collapsed": true
   },
   "outputs": [],
   "source": [
    "from imblearn.under_sampling import RandomUnderSampler\n",
    "rus = RandomUnderSampler(random_state=42, return_indices=True)\n",
    "X_undersampled, y_undersampled, indices = rus.fit_sample(dtrain.iloc[:, :-1], dtrain['acquired'])\n",
    "dtrain_subsampled = pd.DataFrame(X_undersampled)\n",
    "dtrain_subsampled['acquired'] = y_undersampled"
   ]
  },
  {
   "cell_type": "code",
   "execution_count": 224,
   "metadata": {},
   "outputs": [
    {
     "name": "stdout",
     "output_type": "stream",
     "text": [
      "('Avg auc score: 0.757172183278', \"Best params: {'n_neighbors': 10, 'n_jobs': -1, 'weights': 'distance'}\")\n",
      "Auc score on Train       set: 1.000\n",
      "Auc score on Validation  set: 0.701\n",
      "TP rate: 30.1%\n",
      "FP rate: 70.2%\n"
     ]
    }
   ],
   "source": [
    "knn_parameters = {'n_neighbors':[1, 10], 'n_jobs':[-1], 'weights':['distance', 'uniform']}\n",
    "knn_subsampled_clf = run_classifier(knn_parameters, KNeighborsClassifier(), dtrain_subsampled)"
   ]
  },
  {
   "cell_type": "markdown",
   "metadata": {},
   "source": [
    "## XGBoost"
   ]
  },
  {
   "cell_type": "code",
   "execution_count": 206,
   "metadata": {
    "collapsed": true
   },
   "outputs": [],
   "source": [
    "def model_xgboost_classifier(classifier, df, sample_weight={1:4,0:1}, useTrainCV=True, cv_folds=5, early_stopping_rounds=50):\n",
    "    seed = 42\n",
    "    np.random.seed(seed)\n",
    "    X = df.iloc[:, :-1]\n",
    "    y = df['acquired']\n",
    "    X_train, X_test, y_train, y_test = train_test_split(X, y, test_size=0.2, random_state=seed, stratify=y)\n",
    "    \n",
    "    if useTrainCV:\n",
    "        xgb_param = classifier.get_xgb_params()\n",
    "        xgtrain = xgb.DMatrix(X_train.values, label=y_train.values)\n",
    "        cvresult = xgb.cv(xgb_param, xgtrain, num_boost_round=classifier.get_params()['n_estimators'], nfold=cv_folds, \\\n",
    "                          metrics='auc', early_stopping_rounds=early_stopping_rounds)\n",
    "        classifier.set_params(n_estimators=cvresult.shape[0])\n",
    "        print cvresult\n",
    "    \n",
    "    classifier.fit(X_train, y_train, eval_metric='auc', sample_weight=y_train.replace(sample_weight))\n",
    "    \n",
    "    print 'Auc score on Train       set: {0:0.3f}'.format(roc_auc_score(y_train, classifier.predict(X_train)))\n",
    "    print 'Auc score on Validation  set: {0:0.3f}'.format(roc_auc_score(y_test, classifier.predict(X_test)))\n",
    "    cm = pd.crosstab(y_test, classifier.predict(X_test), rownames=['True'], colnames=['Predicted'], margins=True)\n",
    "    print cm \n",
    "    print 'TP rate: {0:0.1f}%'.format(cm[1][0]/float(cm['All'][0])*100)\n",
    "    print 'FP rate: {0:0.1f}%'.format(cm[1][1]/float(cm['All'][1])*100)\n",
    "    \n",
    "    return classifier"
   ]
  },
  {
   "cell_type": "code",
   "execution_count": 207,
   "metadata": {
    "scrolled": true
   },
   "outputs": [
    {
     "name": "stdout",
     "output_type": "stream",
     "text": [
      "Auc score on Train       set: 0.779\n",
      "Auc score on Validation  set: 0.768\n",
      "Predicted     0     1   All\n",
      "True                       \n",
      "0          4442   732  5174\n",
      "1           214   451   665\n",
      "All        4656  1183  5839\n",
      "TP rate: 14.1%\n",
      "FP rate: 67.8%\n"
     ]
    }
   ],
   "source": [
    "from xgboost import XGBClassifier\n",
    "\n",
    "xgb1 = XGBClassifier(\n",
    " learning_rate =0.1,\n",
    " n_estimators=10,\n",
    " max_depth=5,\n",
    " min_child_weight=1,\n",
    " gamma=0,\n",
    " subsample=0.9,\n",
    " colsample_bytree=0.9,\n",
    " objective= 'binary:logistic',\n",
    " n_jobs=4,\n",
    " scale_pos_weight=1,\n",
    " random_state=0)\n",
    "\n",
    "xgb_clf = model_xgboost_classifier(xgb1, dtrain, useTrainCV=False, cv_folds=5, early_stopping_rounds=1000)"
   ]
  },
  {
   "cell_type": "markdown",
   "metadata": {},
   "source": [
    "## Final test within unseen data"
   ]
  },
  {
   "cell_type": "code",
   "execution_count": 226,
   "metadata": {},
   "outputs": [
    {
     "name": "stdout",
     "output_type": "stream",
     "text": [
      "--------------rf_clf---------------\n",
      "Auc score on Test set: 0.772\n",
      "TP rate: 17.9%\n",
      "FP rate: 72.3%\n",
      "--------------svm_clf---------------\n",
      "Auc score on Test set: 0.757\n",
      "TP rate: 23.5%\n",
      "FP rate: 74.8%\n",
      "--------------knn_clf---------------\n",
      "Auc score on Test set: 0.564\n",
      "TP rate: 2.9%\n",
      "FP rate: 15.6%\n",
      "--------------knn_subsampled_clf---------------\n",
      "Auc score on Test set: 0.665\n",
      "TP rate: 32.8%\n",
      "FP rate: 65.8%\n",
      "--------------xgb_clf---------------\n",
      "Auc score on Test set: 0.761\n",
      "TP rate: 15.1%\n",
      "FP rate: 67.4%\n"
     ]
    }
   ],
   "source": [
    "def compare_models(models, df):\n",
    "    for var_model in models:\n",
    "        model = eval(var_model)\n",
    "        X = df.iloc[:, :-1]\n",
    "        y = df['acquired']\n",
    "        print '--------------'+var_model + '---------------'\n",
    "        print 'Auc score on Test set: {0:0.3f}'.format(roc_auc_score(y, model.predict(X)))\n",
    "        cm = pd.crosstab(y, model.predict(X), rownames=['True'], colnames=['Predicted'], margins=True)\n",
    "        #print cm \n",
    "        print 'FP rate: {0:0.1f}%'.format(cm[1][0]/float(cm['All'][0])*100)\n",
    "        print 'TP rate: {0:0.1f}%'.format(cm[1][1]/float(cm['All'][1])*100)\n",
    "        \n",
    "\n",
    "#compare_models(['rf_clf', 'svm_clf', 'knn_clf', 'knn_subsampled_clf'], dtest)\n",
    "compare_models(['rf_clf', 'svm_clf', 'knn_clf', 'knn_subsampled_clf', 'xgb_clf'], dtest)"
   ]
  }
 ],
 "metadata": {
  "kernelspec": {
   "display_name": "Python [default]",
   "language": "python",
   "name": "python2"
  },
  "language_info": {
   "codemirror_mode": {
    "name": "ipython",
    "version": 2
   },
   "file_extension": ".py",
   "mimetype": "text/x-python",
   "name": "python",
   "nbconvert_exporter": "python",
   "pygments_lexer": "ipython2",
   "version": "2.7.13"
  }
 },
 "nbformat": 4,
 "nbformat_minor": 2
}
