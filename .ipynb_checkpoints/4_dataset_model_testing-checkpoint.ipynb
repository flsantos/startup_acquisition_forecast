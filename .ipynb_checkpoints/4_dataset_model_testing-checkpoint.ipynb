{
 "cells": [
  {
   "cell_type": "markdown",
   "metadata": {},
   "source": [
    "#                                                  Algorithms Exploration\n",
    "\n",
    "Here we'll be testing a few different supervised learning algorithms against the dataset we developed so far"
   ]
  },
  {
   "cell_type": "code",
   "execution_count": 40,
   "metadata": {
    "collapsed": false
   },
   "outputs": [],
   "source": [
    "#Importing the dataset\n",
    "\n",
    "import pandas as pd\n",
    "startups = pd.read_csv('data/startups_3.csv', index_col=0)\n",
    "startups[:3]\n",
    "\n",
    "X = startups.drop('acquired', 1)\n",
    "X_numeric = X.filter(regex=('(number_of|avg_).*|.*(funding_total_usd|funding_rounds|_at)'))\n",
    "X_categorical = X.filter(regex=('(Category_|state_).*'))\n",
    "X_state = X.filter(regex=('(state_).*'))\n",
    "X_category = X.filter(regex=('(Category_).*'))\n",
    "\n",
    "y = startups['acquired']"
   ]
  },
  {
   "cell_type": "code",
   "execution_count": 33,
   "metadata": {
    "collapsed": false
   },
   "outputs": [],
   "source": [
    "#startups_not_operating = pd.read_csv('data/startups_not_operating_3.csv', index_col=0)\n",
    "#X = startups_not_operating.drop('acquired', 1)\n",
    "#y = startups_not_operating['acquired']"
   ]
  },
  {
   "cell_type": "code",
   "execution_count": 25,
   "metadata": {
    "collapsed": false,
    "scrolled": true
   },
   "outputs": [
    {
     "data": {
      "text/html": [
       "<div>\n",
       "<table border=\"1\" class=\"dataframe\">\n",
       "  <thead>\n",
       "    <tr style=\"text-align: right;\">\n",
       "      <th></th>\n",
       "      <th>0</th>\n",
       "      <th>1</th>\n",
       "      <th>2</th>\n",
       "      <th>3</th>\n",
       "      <th>4</th>\n",
       "      <th>5</th>\n",
       "    </tr>\n",
       "  </thead>\n",
       "  <tbody>\n",
       "    <tr>\n",
       "      <th>0</th>\n",
       "      <td>-0.057245</td>\n",
       "      <td>0.120264</td>\n",
       "      <td>-0.010556</td>\n",
       "      <td>-0.018942</td>\n",
       "      <td>-0.032121</td>\n",
       "      <td>-0.011784</td>\n",
       "    </tr>\n",
       "    <tr>\n",
       "      <th>1</th>\n",
       "      <td>-0.087023</td>\n",
       "      <td>-0.012353</td>\n",
       "      <td>-0.062867</td>\n",
       "      <td>-0.050250</td>\n",
       "      <td>0.004071</td>\n",
       "      <td>-0.002986</td>\n",
       "    </tr>\n",
       "    <tr>\n",
       "      <th>2</th>\n",
       "      <td>0.191721</td>\n",
       "      <td>0.115093</td>\n",
       "      <td>0.004067</td>\n",
       "      <td>0.007415</td>\n",
       "      <td>0.031256</td>\n",
       "      <td>-0.055648</td>\n",
       "    </tr>\n",
       "  </tbody>\n",
       "</table>\n",
       "</div>"
      ],
      "text/plain": [
       "          0         1         2         3         4         5\n",
       "0 -0.057245  0.120264 -0.010556 -0.018942 -0.032121 -0.011784\n",
       "1 -0.087023 -0.012353 -0.062867 -0.050250  0.004071 -0.002986\n",
       "2  0.191721  0.115093  0.004067  0.007415  0.031256 -0.055648"
      ]
     },
     "execution_count": 25,
     "metadata": {},
     "output_type": "execute_result"
    }
   ],
   "source": [
    "from sklearn.decomposition import PCA\n",
    "pca = PCA(n_components=6)\n",
    "pca.fit(X_numeric)\n",
    "X_pca =  pca.transform(X_numeric)\n",
    "X_pca = pd.DataFrame(X_pca)\n",
    "X_pca[:3]"
   ]
  },
  {
   "cell_type": "code",
   "execution_count": 7,
   "metadata": {
    "collapsed": false
   },
   "outputs": [],
   "source": [
    "from imblearn.under_sampling import RandomUnderSampler\n",
    "rus = RandomUnderSampler(random_state=42, return_indices=True)\n",
    "X_undersampled, y_undersampled, indices = rus.fit_sample(X, y)"
   ]
  },
  {
   "cell_type": "code",
   "execution_count": 8,
   "metadata": {
    "collapsed": false
   },
   "outputs": [],
   "source": [
    "X_software = X[X['Category_Software'] == 1]\n",
    "y_software = y.loc[X_software.index]"
   ]
  },
  {
   "cell_type": "code",
   "execution_count": 9,
   "metadata": {
    "collapsed": false
   },
   "outputs": [
    {
     "data": {
      "text/plain": [
       "(5492L,)"
      ]
     },
     "execution_count": 9,
     "metadata": {},
     "output_type": "execute_result"
    }
   ],
   "source": [
    "y_software.shape"
   ]
  },
  {
   "cell_type": "code",
   "execution_count": 10,
   "metadata": {
    "collapsed": false
   },
   "outputs": [],
   "source": [
    "from sklearn.cross_validation import train_test_split\n",
    "from sklearn.cross_validation import StratifiedKFold\n",
    "from sklearn.metrics import roc_auc_score\n",
    "from sklearn.metrics import confusion_matrix\n",
    "from sklearn import grid_search\n",
    "\n",
    "def run_classifier(parameters, classifier, stratify=True, new_X=None, new_y=None):\n",
    "    X_train, X_test, y_train, y_test = train_test_split(new_X if new_X is not None else X, new_y if new_y is not None else y, test_size=0.2, random_state=42, stratify = y if stratify else None)\n",
    "    clf = grid_search.GridSearchCV(classifier, parameters, n_jobs=4, scoring='roc_auc')\n",
    "    clf.fit(X=X_train, y=y_train)\n",
    "    model = clf.best_estimator_\n",
    "    print (clf.best_score_, clf.best_params_) \n",
    "    print roc_auc_score(y_test, model.predict(X_test))\n",
    "    print pd.crosstab(y_test, model.predict(X_test), rownames=['True'], colnames=['Predicted'], margins=True)\n",
    "    return model\n"
   ]
  },
  {
   "cell_type": "code",
   "execution_count": 12,
   "metadata": {
    "collapsed": false
   },
   "outputs": [
    {
     "name": "stdout",
     "output_type": "stream",
     "text": [
      "(0.83557555703535935, {'max_depth': 6})\n",
      "0.526351092476\n",
      "Predicted     0    1   All\n",
      "True                      \n",
      "0          6632   58  6690\n",
      "1           780   51   831\n",
      "All        7412  109  7521\n"
     ]
    }
   ],
   "source": [
    "from sklearn.tree import DecisionTreeClassifier\n",
    "\n",
    "dt_clf = run_classifier({'max_depth':range(5,20)}, DecisionTreeClassifier())"
   ]
  },
  {
   "cell_type": "code",
   "execution_count": 41,
   "metadata": {
    "collapsed": false
   },
   "outputs": [
    {
     "name": "stdout",
     "output_type": "stream",
     "text": [
      "(0.85238623633237032, {'n_estimators': 50, 'max_depth': 9, 'class_weight': 'balanced'})\n",
      "0.779468251013\n",
      "Predicted     0     1   All\n",
      "True                       \n",
      "0          5446  1244  6690\n",
      "1           212   619   831\n",
      "All        5658  1863  7521\n"
     ]
    }
   ],
   "source": [
    "from sklearn.ensemble import RandomForestClassifier\n",
    "\n",
    "rf_clf = run_classifier({'max_depth':range(5,10), 'n_estimators':[50], 'class_weight':['balanced']}, RandomForestClassifier(random_state=0))"
   ]
  },
  {
   "cell_type": "code",
   "execution_count": 27,
   "metadata": {
    "collapsed": false
   },
   "outputs": [
    {
     "name": "stdout",
     "output_type": "stream",
     "text": [
      "(0.85249587347790967, {'n_estimators': 50, 'max_depth': 9, 'class_weight': 'balanced_subsample'})\n",
      "0.782035798892\n",
      "Predicted     0     1   All\n",
      "True                       \n",
      "0          5424  1266  6690\n",
      "1           205   626   831\n",
      "All        5629  1892  7521\n"
     ]
    }
   ],
   "source": [
    "#Subsampled\n",
    "from sklearn.ensemble import RandomForestClassifier\n",
    "\n",
    "rf_clf = run_classifier({'max_depth':range(6,10), 'n_estimators':[50], 'class_weight':['balanced_subsample']}, RandomForestClassifier(random_state=0))"
   ]
  },
  {
   "cell_type": "code",
   "execution_count": 17,
   "metadata": {
    "collapsed": false
   },
   "outputs": [
    {
     "name": "stdout",
     "output_type": "stream",
     "text": [
      "(0.82797711356597792, {'kernel': 'rbf', 'C': 100, 'class_weight': 'balanced'})\n",
      "0.754569026458\n",
      "Predicted     0     1   All\n",
      "True                       \n",
      "0          5137  1553  6690\n",
      "1           215   616   831\n",
      "All        5352  2169  7521\n"
     ]
    }
   ],
   "source": [
    "from sklearn.svm import SVC\n",
    "\n",
    "#parameters = {'kernel':['linear', 'rbf', 'poly'], 'C':[1, 10, 100, 1000], 'class_weight':['balanced']}\n",
    "parameters = {'kernel':['rbf'], 'C':[100], 'class_weight':['balanced']}\n",
    "svc_clf = run_classifier(parameters, SVC(random_state=0))"
   ]
  },
  {
   "cell_type": "code",
   "execution_count": 18,
   "metadata": {
    "collapsed": false
   },
   "outputs": [
    {
     "name": "stdout",
     "output_type": "stream",
     "text": [
      "0.725930646088\n",
      "0.726810045706\n",
      "Predicted     0     1   All\n",
      "True                       \n",
      "0          4991  1699  6690\n",
      "1           243   588   831\n",
      "All        5234  2287  7521\n"
     ]
    }
   ],
   "source": [
    "from sklearn.svm import SVC\n",
    "X_train, X_test, y_train, y_test = train_test_split(X_pca, y, test_size=0.2, random_state=42, stratify=y)\n",
    "#clf = grid_search.GridSearchCV(classifier, parameters, n_jobs=4, scoring='roc_auc')\n",
    "clf = SVC(C=1, kernel='rbf', class_weight={0:1, 1:8})\n",
    "clf.fit(X=X_train, y=y_train)\n",
    "    #model = clf.best_estimator_\n",
    "    #print (clf.best_score_, clf.best_params_) \n",
    "print roc_auc_score(y_train, clf.predict(X_train))\n",
    "print roc_auc_score(y_test, clf.predict(X_test))\n",
    "print pd.crosstab(y_test, clf.predict(X_test), rownames=['True'], colnames=['Predicted'], margins=True)"
   ]
  },
  {
   "cell_type": "code",
   "execution_count": 19,
   "metadata": {
    "collapsed": false
   },
   "outputs": [
    {
     "name": "stdout",
     "output_type": "stream",
     "text": [
      "(0.71566986959496537, {'n_neighbors': 5})\n",
      "0.675567158387\n",
      "Predicted    0    1   All\n",
      "True                     \n",
      "0          573  286   859\n",
      "1          254  550   804\n",
      "All        827  836  1663\n"
     ]
    }
   ],
   "source": [
    "import warnings\n",
    "warnings.filterwarnings('ignore')\n",
    "\n",
    "from sklearn.neighbors import KNeighborsClassifier\n",
    "\n",
    "parameters = {'n_neighbors':[3, 5]}\n",
    "knn_clf = run_classifier(parameters, KNeighborsClassifier(), stratify=False, new_X=X_undersampled, new_y=y_undersampled)"
   ]
  },
  {
   "cell_type": "code",
   "execution_count": 22,
   "metadata": {
    "collapsed": false
   },
   "outputs": [
    {
     "name": "stdout",
     "output_type": "stream",
     "text": [
      "[ 0.75196387  0.77663833  0.74250558  0.73572897  0.7446668 ]\n",
      "0.666785352467\n",
      "0.659672554003\n",
      "Predicted     0     1   All\n",
      "True                       \n",
      "0          5574  1116  6690\n",
      "1           427   404   831\n",
      "All        6001  1520  7521\n"
     ]
    }
   ],
   "source": [
    "from sklearn.naive_bayes import GaussianNB\n",
    "from sklearn.naive_bayes import MultinomialNB\n",
    "from sklearn.naive_bayes import BernoulliNB\n",
    "\n",
    "from sklearn.cross_validation import cross_val_score\n",
    "\n",
    "\n",
    "X_train, X_test, y_train, y_test = train_test_split(X, y, test_size=0.2, random_state=42, stratify=y)\n",
    "clf = BernoulliNB()\n",
    "print cross_val_score(clf, X_train, y_train, scoring='roc_auc', cv=5)\n",
    "clf.fit(X_train, y_train)\n",
    "print roc_auc_score(y_train, clf.predict(X_train))\n",
    "print roc_auc_score(y_test, clf.predict(X_test))\n",
    "print pd.crosstab(y_test, clf.predict(X_test), rownames=['True'], colnames=['Predicted'], margins=True)"
   ]
  },
  {
   "cell_type": "code",
   "execution_count": null,
   "metadata": {
    "collapsed": false
   },
   "outputs": [],
   "source": []
  },
  {
   "cell_type": "code",
   "execution_count": 23,
   "metadata": {
    "collapsed": false
   },
   "outputs": [
    {
     "name": "stdout",
     "output_type": "stream",
     "text": [
      "[ 0.81046854  0.81351643  0.83313246  0.83169492  0.81887942  0.81859137\n",
      "  0.81792929  0.80912285  0.81394663  0.81957325]\n",
      "0.724380124297\n",
      "0.719264973315\n",
      "Predicted     0     1   All\n",
      "True                       \n",
      "0          5679  1011  6690\n",
      "1           341   490   831\n",
      "All        6020  1501  7521\n"
     ]
    }
   ],
   "source": [
    "from sklearn.linear_model import SGDClassifier\n",
    "\n",
    "X_train, X_test, y_train, y_test = train_test_split(X, y, test_size=0.2, random_state=42, stratify=y)\n",
    "clf = SGDClassifier(random_state=0, class_weight='balanced', loss='log')\n",
    "print cross_val_score(clf, X_train, y_train, scoring='roc_auc', cv=10)\n",
    "clf.fit(X_train, y_train)\n",
    "print roc_auc_score(y_train, clf.predict(X_train))\n",
    "print roc_auc_score(y_test, clf.predict(X_test))\n",
    "print pd.crosstab(y_test, clf.predict(X_test), rownames=['True'], colnames=['Predicted'], margins=True)\n"
   ]
  },
  {
   "cell_type": "code",
   "execution_count": 243,
   "metadata": {
    "collapsed": false
   },
   "outputs": [
    {
     "name": "stdout",
     "output_type": "stream",
     "text": [
      "(0.79927523380599907, {'loss': 'log', 'l1_ratio': 0.1, 'penalty': 'l1', 'random_state': 0, 'alpha': 0.001, 'class_weight': 'balanced'})\n",
      "0.718815193753\n",
      "Predicted     0     1   All\n",
      "True                       \n",
      "0          5198  1492  6690\n",
      "1           282   549   831\n",
      "All        5480  2041  7521\n"
     ]
    }
   ],
   "source": [
    "from sklearn.linear_model import SGDClassifier\n",
    "parameters={'l1_ratio':[0.10, 0.15, 0.20], 'alpha':[0.001, 0.0001, 0.00001, 0.000001], 'class_weight':['balanced'], 'random_state':[0], 'loss':['hinge', 'log'], 'penalty':['l2', 'l1', 'elasticnet']}\n",
    "sgd_clf = run_classifier(parameters, SGDClassifier(), stratify=True, new_X=X_numeric)\n"
   ]
  },
  {
   "cell_type": "code",
   "execution_count": 274,
   "metadata": {
    "collapsed": false
   },
   "outputs": [
    {
     "name": "stdout",
     "output_type": "stream",
     "text": [
      "(0.80426020803093701, {'loss': 'log', 'l1_ratio': 0.1, 'penalty': 'l1', 'random_state': 0, 'alpha': 0.001, 'class_weight': 'balanced'})\n",
      "0.72061148662\n",
      "Predicted    0    1   All\n",
      "True                     \n",
      "0          639  298   937\n",
      "1           39  123   162\n",
      "All        678  421  1099\n"
     ]
    }
   ],
   "source": [
    "#SGD for Category Software\n",
    "from sklearn.linear_model import SGDClassifier\n",
    "parameters={'l1_ratio':[0.10, 0.15, 0.20], 'alpha':[0.001, 0.0001, 0.00001, 0.000001], 'class_weight':['balanced'], 'random_state':[0], 'loss':['hinge', 'log'], 'penalty':['l2', 'l1', 'elasticnet']}\n",
    "sgd_clf = run_classifier(parameters, SGDClassifier(), stratify=False, new_X=X_software, new_y=y_software)"
   ]
  },
  {
   "cell_type": "code",
   "execution_count": 231,
   "metadata": {
    "collapsed": false
   },
   "outputs": [
    {
     "name": "stdout",
     "output_type": "stream",
     "text": [
      "(0.80857442131721124, {})\n",
      "0.525906439376\n",
      "Predicted     0    1   All\n",
      "True                      \n",
      "0          6618   72  6690\n",
      "1           779   52   831\n",
      "All        7397  124  7521\n"
     ]
    }
   ],
   "source": [
    "from sklearn.linear_model import LogisticRegression\n",
    "parameters={}\n",
    "lr_clf = run_classifier(parameters, LogisticRegression(), stratify=True)"
   ]
  },
  {
   "cell_type": "code",
   "execution_count": null,
   "metadata": {
    "collapsed": true
   },
   "outputs": [],
   "source": []
  },
  {
   "cell_type": "code",
   "execution_count": null,
   "metadata": {
    "collapsed": true
   },
   "outputs": [],
   "source": [
    "next: ignore \"ipo\" and \"closed\", work only with opearting and acquired\n",
    "    "
   ]
  },
  {
   "cell_type": "code",
   "execution_count": null,
   "metadata": {
    "collapsed": true
   },
   "outputs": [],
   "source": []
  }
 ],
 "metadata": {
  "anaconda-cloud": {},
  "kernelspec": {
   "display_name": "Python [default]",
   "language": "python",
   "name": "python2"
  },
  "language_info": {
   "codemirror_mode": {
    "name": "ipython",
    "version": 2
   },
   "file_extension": ".py",
   "mimetype": "text/x-python",
   "name": "python",
   "nbconvert_exporter": "python",
   "pygments_lexer": "ipython2",
   "version": "2.7.12"
  }
 },
 "nbformat": 4,
 "nbformat_minor": 2
}
